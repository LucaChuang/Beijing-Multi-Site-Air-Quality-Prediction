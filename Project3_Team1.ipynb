{
  "nbformat": 4,
  "nbformat_minor": 0,
  "metadata": {
    "colab": {
      "name": "Project3_Team1.ipynb",
      "provenance": [],
      "collapsed_sections": [],
      "toc_visible": true,
      "include_colab_link": true
    },
    "kernelspec": {
      "name": "python3",
      "display_name": "Python 3"
    }
  },
  "cells": [
    {
      "cell_type": "markdown",
      "metadata": {
        "id": "view-in-github",
        "colab_type": "text"
      },
      "source": [
        "<a href=\"https://colab.research.google.com/github/LucaChuang/Beijing-Multi-Site-Air-Quality-Prediction/blob/main/Project3_Team1.ipynb\" target=\"_parent\"><img src=\"https://colab.research.google.com/assets/colab-badge.svg\" alt=\"Open In Colab\"/></a>"
      ]
    },
    {
      "cell_type": "code",
      "metadata": {
        "id": "S5ZjESUo0t7n"
      },
      "source": [
        "# standard modules\n",
        "import numpy as np\n",
        "import pandas as pd\n",
        "import matplotlib.pyplot as plt\n",
        "\n",
        "# RNN-specific modules\n",
        "from sklearn.preprocessing import MinMaxScaler\n",
        "from sklearn.metrics import classification_report,accuracy_score\n",
        "from tensorflow.keras import layers, Sequential\n",
        "from tensorflow.keras.layers import Conv1D, MaxPooling1D\n",
        "from tensorflow.keras.layers import Dense, Dropout, SimpleRNN, GRU, LSTM, Bidirectional\n",
        "from tensorflow.keras.callbacks import EarlyStopping\n",
        "import keras\n",
        "from keras.callbacks import EarlyStopping"
      ],
      "execution_count": null,
      "outputs": []
    },
    {
      "cell_type": "code",
      "metadata": {
        "id": "vi_Mr1jPAImT",
        "colab": {
          "base_uri": "https://localhost:8080/"
        },
        "outputId": "f1e38125-20ee-46c2-f794-63b9a128e87f"
      },
      "source": [
        "from google.colab import drive\n",
        "drive.mount('/content/drive')"
      ],
      "execution_count": null,
      "outputs": [
        {
          "output_type": "stream",
          "text": [
            "Mounted at /content/drive\n"
          ],
          "name": "stdout"
        }
      ]
    },
    {
      "cell_type": "markdown",
      "metadata": {
        "id": "dAqwSOrzJm8p"
      },
      "source": [
        "## Data Gathering"
      ]
    },
    {
      "cell_type": "markdown",
      "metadata": {
        "id": "PybxG3Ar5-mC"
      },
      "source": [
        "## Merge two weather datasets\n",
        "\n",
        "The ASOS network data is collected in Beijing Capital International Airport(ZBAA) which located at Shunyi district, so we enrich this dataset with Beijing Municipal Environmental Monitoring Center data for Shunyi district. "
      ]
    },
    {
      "cell_type": "markdown",
      "metadata": {
        "id": "zomz3_vC56qf"
      },
      "source": [
        "### ASOS Network data"
      ]
    },
    {
      "cell_type": "code",
      "metadata": {
        "id": "Hn-pR6PZ0_tZ",
        "colab": {
          "base_uri": "https://localhost:8080/"
        },
        "outputId": "2f9e802b-a887-47a9-8415-5a57eef742f8"
      },
      "source": [
        "# read in the asos data\n",
        "asos = pd.read_csv(\"/content/drive/Shared drives/Deep Learning Team1/Project 3/Data/asos.txt\", sep=\",\")\n",
        "asos.info()"
      ],
      "execution_count": null,
      "outputs": [
        {
          "output_type": "stream",
          "text": [
            "<class 'pandas.core.frame.DataFrame'>\n",
            "RangeIndex: 69959 entries, 0 to 69958\n",
            "Data columns (total 29 columns):\n",
            " #   Column             Non-Null Count  Dtype  \n",
            "---  ------             --------------  -----  \n",
            " 0   station            69959 non-null  object \n",
            " 1   valid              69959 non-null  object \n",
            " 2   tmpf               69959 non-null  float64\n",
            " 3   dwpf               69959 non-null  float64\n",
            " 4   relh               69959 non-null  float64\n",
            " 5   drct               55539 non-null  float64\n",
            " 6   sknt               69959 non-null  float64\n",
            " 7   p01i               69959 non-null  float64\n",
            " 8   alti               69959 non-null  float64\n",
            " 9   mslp               0 non-null      float64\n",
            " 10  vsby               69959 non-null  float64\n",
            " 11  gust               2268 non-null   float64\n",
            " 12  skyc1              30100 non-null  object \n",
            " 13  skyc2              1718 non-null   object \n",
            " 14  skyc3              72 non-null     object \n",
            " 15  skyc4              0 non-null      float64\n",
            " 16  skyl1              5691 non-null   float64\n",
            " 17  skyl2              1718 non-null   float64\n",
            " 18  skyl3              72 non-null     float64\n",
            " 19  skyl4              0 non-null      float64\n",
            " 20  wxcodes            19175 non-null  object \n",
            " 21  ice_accretion_1hr  0 non-null      float64\n",
            " 22  ice_accretion_3hr  0 non-null      float64\n",
            " 23  ice_accretion_6hr  0 non-null      float64\n",
            " 24  peak_wind_gust     0 non-null      float64\n",
            " 25  peak_wind_drct     0 non-null      float64\n",
            " 26  peak_wind_time     0 non-null      float64\n",
            " 27  feel               69959 non-null  float64\n",
            " 28  metar              69959 non-null  object \n",
            "dtypes: float64(22), object(7)\n",
            "memory usage: 15.5+ MB\n"
          ],
          "name": "stdout"
        },
        {
          "output_type": "stream",
          "text": [
            "/usr/local/lib/python3.6/dist-packages/IPython/core/interactiveshell.py:2718: DtypeWarning: Columns (14) have mixed types.Specify dtype option on import or set low_memory=False.\n",
            "  interactivity=interactivity, compiler=compiler, result=result)\n"
          ],
          "name": "stderr"
        }
      ]
    },
    {
      "cell_type": "code",
      "metadata": {
        "id": "aoFO1Ogk5CGI",
        "colab": {
          "base_uri": "https://localhost:8080/"
        },
        "outputId": "6d6c44b0-23fc-490f-cce4-55cfed1146cb"
      },
      "source": [
        "# remove \n",
        "asos = asos[['station','valid','relh','p01i','vsby']]\n",
        "asos.info()"
      ],
      "execution_count": null,
      "outputs": [
        {
          "output_type": "stream",
          "text": [
            "<class 'pandas.core.frame.DataFrame'>\n",
            "RangeIndex: 69959 entries, 0 to 69958\n",
            "Data columns (total 5 columns):\n",
            " #   Column   Non-Null Count  Dtype  \n",
            "---  ------   --------------  -----  \n",
            " 0   station  69959 non-null  object \n",
            " 1   valid    69959 non-null  object \n",
            " 2   relh     69959 non-null  float64\n",
            " 3   p01i     69959 non-null  float64\n",
            " 4   vsby     69959 non-null  float64\n",
            "dtypes: float64(3), object(2)\n",
            "memory usage: 2.7+ MB\n"
          ],
          "name": "stdout"
        }
      ]
    },
    {
      "cell_type": "code",
      "metadata": {
        "id": "CtKIrYpA1i9O",
        "colab": {
          "base_uri": "https://localhost:8080/",
          "height": 195
        },
        "outputId": "6aa653bf-173c-4ba1-9ecd-4f70f4041880"
      },
      "source": [
        "asos.head()"
      ],
      "execution_count": null,
      "outputs": [
        {
          "output_type": "execute_result",
          "data": {
            "text/html": [
              "<div>\n",
              "<style scoped>\n",
              "    .dataframe tbody tr th:only-of-type {\n",
              "        vertical-align: middle;\n",
              "    }\n",
              "\n",
              "    .dataframe tbody tr th {\n",
              "        vertical-align: top;\n",
              "    }\n",
              "\n",
              "    .dataframe thead th {\n",
              "        text-align: right;\n",
              "    }\n",
              "</style>\n",
              "<table border=\"1\" class=\"dataframe\">\n",
              "  <thead>\n",
              "    <tr style=\"text-align: right;\">\n",
              "      <th></th>\n",
              "      <th>station</th>\n",
              "      <th>valid</th>\n",
              "      <th>relh</th>\n",
              "      <th>p01i</th>\n",
              "      <th>vsby</th>\n",
              "    </tr>\n",
              "  </thead>\n",
              "  <tbody>\n",
              "    <tr>\n",
              "      <th>0</th>\n",
              "      <td>ZBAA</td>\n",
              "      <td>2013-03-01 00:00</td>\n",
              "      <td>20.01</td>\n",
              "      <td>0.0</td>\n",
              "      <td>6.21</td>\n",
              "    </tr>\n",
              "    <tr>\n",
              "      <th>1</th>\n",
              "      <td>ZBAA</td>\n",
              "      <td>2013-03-01 00:30</td>\n",
              "      <td>18.60</td>\n",
              "      <td>0.0</td>\n",
              "      <td>6.21</td>\n",
              "    </tr>\n",
              "    <tr>\n",
              "      <th>2</th>\n",
              "      <td>ZBAA</td>\n",
              "      <td>2013-03-01 01:00</td>\n",
              "      <td>13.24</td>\n",
              "      <td>0.0</td>\n",
              "      <td>6.21</td>\n",
              "    </tr>\n",
              "    <tr>\n",
              "      <th>3</th>\n",
              "      <td>ZBAA</td>\n",
              "      <td>2013-03-01 01:30</td>\n",
              "      <td>12.10</td>\n",
              "      <td>0.0</td>\n",
              "      <td>6.21</td>\n",
              "    </tr>\n",
              "    <tr>\n",
              "      <th>4</th>\n",
              "      <td>ZBAA</td>\n",
              "      <td>2013-03-01 02:00</td>\n",
              "      <td>13.24</td>\n",
              "      <td>0.0</td>\n",
              "      <td>6.21</td>\n",
              "    </tr>\n",
              "  </tbody>\n",
              "</table>\n",
              "</div>"
            ],
            "text/plain": [
              "  station             valid   relh  p01i  vsby\n",
              "0    ZBAA  2013-03-01 00:00  20.01   0.0  6.21\n",
              "1    ZBAA  2013-03-01 00:30  18.60   0.0  6.21\n",
              "2    ZBAA  2013-03-01 01:00  13.24   0.0  6.21\n",
              "3    ZBAA  2013-03-01 01:30  12.10   0.0  6.21\n",
              "4    ZBAA  2013-03-01 02:00  13.24   0.0  6.21"
            ]
          },
          "metadata": {
            "tags": []
          },
          "execution_count": 5
        }
      ]
    },
    {
      "cell_type": "code",
      "metadata": {
        "id": "YmXbvrnZ3QWP",
        "colab": {
          "base_uri": "https://localhost:8080/"
        },
        "outputId": "a4cf1968-2ca1-47fa-d7d0-f00625be700c"
      },
      "source": [
        "asos['station'].value_counts()"
      ],
      "execution_count": null,
      "outputs": [
        {
          "output_type": "execute_result",
          "data": {
            "text/plain": [
              "ZBAA    69959\n",
              "Name: station, dtype: int64"
            ]
          },
          "metadata": {
            "tags": []
          },
          "execution_count": 6
        }
      ]
    },
    {
      "cell_type": "code",
      "metadata": {
        "id": "reTqugtc3cyI",
        "colab": {
          "base_uri": "https://localhost:8080/",
          "height": 402
        },
        "outputId": "8cead2c5-cae8-4b8a-9d0c-46a013e29e0f"
      },
      "source": [
        "asos['valid'] = pd.to_datetime(asos['valid'])\n",
        "asos"
      ],
      "execution_count": null,
      "outputs": [
        {
          "output_type": "execute_result",
          "data": {
            "text/html": [
              "<div>\n",
              "<style scoped>\n",
              "    .dataframe tbody tr th:only-of-type {\n",
              "        vertical-align: middle;\n",
              "    }\n",
              "\n",
              "    .dataframe tbody tr th {\n",
              "        vertical-align: top;\n",
              "    }\n",
              "\n",
              "    .dataframe thead th {\n",
              "        text-align: right;\n",
              "    }\n",
              "</style>\n",
              "<table border=\"1\" class=\"dataframe\">\n",
              "  <thead>\n",
              "    <tr style=\"text-align: right;\">\n",
              "      <th></th>\n",
              "      <th>station</th>\n",
              "      <th>valid</th>\n",
              "      <th>relh</th>\n",
              "      <th>p01i</th>\n",
              "      <th>vsby</th>\n",
              "    </tr>\n",
              "  </thead>\n",
              "  <tbody>\n",
              "    <tr>\n",
              "      <th>0</th>\n",
              "      <td>ZBAA</td>\n",
              "      <td>2013-03-01 00:00:00</td>\n",
              "      <td>20.01</td>\n",
              "      <td>0.0</td>\n",
              "      <td>6.21</td>\n",
              "    </tr>\n",
              "    <tr>\n",
              "      <th>1</th>\n",
              "      <td>ZBAA</td>\n",
              "      <td>2013-03-01 00:30:00</td>\n",
              "      <td>18.60</td>\n",
              "      <td>0.0</td>\n",
              "      <td>6.21</td>\n",
              "    </tr>\n",
              "    <tr>\n",
              "      <th>2</th>\n",
              "      <td>ZBAA</td>\n",
              "      <td>2013-03-01 01:00:00</td>\n",
              "      <td>13.24</td>\n",
              "      <td>0.0</td>\n",
              "      <td>6.21</td>\n",
              "    </tr>\n",
              "    <tr>\n",
              "      <th>3</th>\n",
              "      <td>ZBAA</td>\n",
              "      <td>2013-03-01 01:30:00</td>\n",
              "      <td>12.10</td>\n",
              "      <td>0.0</td>\n",
              "      <td>6.21</td>\n",
              "    </tr>\n",
              "    <tr>\n",
              "      <th>4</th>\n",
              "      <td>ZBAA</td>\n",
              "      <td>2013-03-01 02:00:00</td>\n",
              "      <td>13.24</td>\n",
              "      <td>0.0</td>\n",
              "      <td>6.21</td>\n",
              "    </tr>\n",
              "    <tr>\n",
              "      <th>...</th>\n",
              "      <td>...</td>\n",
              "      <td>...</td>\n",
              "      <td>...</td>\n",
              "      <td>...</td>\n",
              "      <td>...</td>\n",
              "    </tr>\n",
              "    <tr>\n",
              "      <th>69954</th>\n",
              "      <td>ZBAA</td>\n",
              "      <td>2017-02-27 21:30:00</td>\n",
              "      <td>44.25</td>\n",
              "      <td>0.0</td>\n",
              "      <td>6.21</td>\n",
              "    </tr>\n",
              "    <tr>\n",
              "      <th>69955</th>\n",
              "      <td>ZBAA</td>\n",
              "      <td>2017-02-27 22:00:00</td>\n",
              "      <td>40.93</td>\n",
              "      <td>0.0</td>\n",
              "      <td>6.21</td>\n",
              "    </tr>\n",
              "    <tr>\n",
              "      <th>69956</th>\n",
              "      <td>ZBAA</td>\n",
              "      <td>2017-02-27 22:30:00</td>\n",
              "      <td>44.25</td>\n",
              "      <td>0.0</td>\n",
              "      <td>6.21</td>\n",
              "    </tr>\n",
              "    <tr>\n",
              "      <th>69957</th>\n",
              "      <td>ZBAA</td>\n",
              "      <td>2017-02-27 23:00:00</td>\n",
              "      <td>28.64</td>\n",
              "      <td>0.0</td>\n",
              "      <td>6.21</td>\n",
              "    </tr>\n",
              "    <tr>\n",
              "      <th>69958</th>\n",
              "      <td>ZBAA</td>\n",
              "      <td>2017-02-27 23:30:00</td>\n",
              "      <td>28.64</td>\n",
              "      <td>0.0</td>\n",
              "      <td>6.21</td>\n",
              "    </tr>\n",
              "  </tbody>\n",
              "</table>\n",
              "<p>69959 rows × 5 columns</p>\n",
              "</div>"
            ],
            "text/plain": [
              "      station               valid   relh  p01i  vsby\n",
              "0        ZBAA 2013-03-01 00:00:00  20.01   0.0  6.21\n",
              "1        ZBAA 2013-03-01 00:30:00  18.60   0.0  6.21\n",
              "2        ZBAA 2013-03-01 01:00:00  13.24   0.0  6.21\n",
              "3        ZBAA 2013-03-01 01:30:00  12.10   0.0  6.21\n",
              "4        ZBAA 2013-03-01 02:00:00  13.24   0.0  6.21\n",
              "...       ...                 ...    ...   ...   ...\n",
              "69954    ZBAA 2017-02-27 21:30:00  44.25   0.0  6.21\n",
              "69955    ZBAA 2017-02-27 22:00:00  40.93   0.0  6.21\n",
              "69956    ZBAA 2017-02-27 22:30:00  44.25   0.0  6.21\n",
              "69957    ZBAA 2017-02-27 23:00:00  28.64   0.0  6.21\n",
              "69958    ZBAA 2017-02-27 23:30:00  28.64   0.0  6.21\n",
              "\n",
              "[69959 rows x 5 columns]"
            ]
          },
          "metadata": {
            "tags": []
          },
          "execution_count": 7
        }
      ]
    },
    {
      "cell_type": "markdown",
      "metadata": {
        "id": "QJDb6_ig6C9c"
      },
      "source": [
        "### Beijing Municipal Environmental Monitoring Center data\n"
      ]
    },
    {
      "cell_type": "code",
      "metadata": {
        "id": "6Xl3fxmJ6JKg",
        "colab": {
          "base_uri": "https://localhost:8080/",
          "height": 195
        },
        "outputId": "07960847-f9f9-41e1-85c8-d502b8890d7d"
      },
      "source": [
        "shunyi = pd.read_csv(\"/content/drive/Shared drives/Deep Learning Team1/Project 3/Data/PRSA_Data_Shunyi_20130301-20170228.csv\")\n",
        "shunyi.head()"
      ],
      "execution_count": null,
      "outputs": [
        {
          "output_type": "execute_result",
          "data": {
            "text/html": [
              "<div>\n",
              "<style scoped>\n",
              "    .dataframe tbody tr th:only-of-type {\n",
              "        vertical-align: middle;\n",
              "    }\n",
              "\n",
              "    .dataframe tbody tr th {\n",
              "        vertical-align: top;\n",
              "    }\n",
              "\n",
              "    .dataframe thead th {\n",
              "        text-align: right;\n",
              "    }\n",
              "</style>\n",
              "<table border=\"1\" class=\"dataframe\">\n",
              "  <thead>\n",
              "    <tr style=\"text-align: right;\">\n",
              "      <th></th>\n",
              "      <th>No</th>\n",
              "      <th>year</th>\n",
              "      <th>month</th>\n",
              "      <th>day</th>\n",
              "      <th>hour</th>\n",
              "      <th>PM2.5</th>\n",
              "      <th>PM10</th>\n",
              "      <th>SO2</th>\n",
              "      <th>NO2</th>\n",
              "      <th>CO</th>\n",
              "      <th>O3</th>\n",
              "      <th>TEMP</th>\n",
              "      <th>PRES</th>\n",
              "      <th>DEWP</th>\n",
              "      <th>RAIN</th>\n",
              "      <th>wd</th>\n",
              "      <th>WSPM</th>\n",
              "      <th>station</th>\n",
              "    </tr>\n",
              "  </thead>\n",
              "  <tbody>\n",
              "    <tr>\n",
              "      <th>0</th>\n",
              "      <td>1</td>\n",
              "      <td>2013</td>\n",
              "      <td>3</td>\n",
              "      <td>1</td>\n",
              "      <td>0</td>\n",
              "      <td>3.0</td>\n",
              "      <td>6.0</td>\n",
              "      <td>3.0</td>\n",
              "      <td>8.0</td>\n",
              "      <td>300.0</td>\n",
              "      <td>44.0</td>\n",
              "      <td>-0.9</td>\n",
              "      <td>1025.8</td>\n",
              "      <td>-20.5</td>\n",
              "      <td>0.0</td>\n",
              "      <td>NW</td>\n",
              "      <td>9.3</td>\n",
              "      <td>Shunyi</td>\n",
              "    </tr>\n",
              "    <tr>\n",
              "      <th>1</th>\n",
              "      <td>2</td>\n",
              "      <td>2013</td>\n",
              "      <td>3</td>\n",
              "      <td>1</td>\n",
              "      <td>1</td>\n",
              "      <td>12.0</td>\n",
              "      <td>12.0</td>\n",
              "      <td>3.0</td>\n",
              "      <td>7.0</td>\n",
              "      <td>300.0</td>\n",
              "      <td>47.0</td>\n",
              "      <td>-1.1</td>\n",
              "      <td>1026.1</td>\n",
              "      <td>-21.3</td>\n",
              "      <td>0.0</td>\n",
              "      <td>NW</td>\n",
              "      <td>9.4</td>\n",
              "      <td>Shunyi</td>\n",
              "    </tr>\n",
              "    <tr>\n",
              "      <th>2</th>\n",
              "      <td>3</td>\n",
              "      <td>2013</td>\n",
              "      <td>3</td>\n",
              "      <td>1</td>\n",
              "      <td>2</td>\n",
              "      <td>14.0</td>\n",
              "      <td>14.0</td>\n",
              "      <td>NaN</td>\n",
              "      <td>7.0</td>\n",
              "      <td>200.0</td>\n",
              "      <td>22.0</td>\n",
              "      <td>-1.7</td>\n",
              "      <td>1026.2</td>\n",
              "      <td>-23.0</td>\n",
              "      <td>0.0</td>\n",
              "      <td>NW</td>\n",
              "      <td>8.6</td>\n",
              "      <td>Shunyi</td>\n",
              "    </tr>\n",
              "    <tr>\n",
              "      <th>3</th>\n",
              "      <td>4</td>\n",
              "      <td>2013</td>\n",
              "      <td>3</td>\n",
              "      <td>1</td>\n",
              "      <td>3</td>\n",
              "      <td>12.0</td>\n",
              "      <td>12.0</td>\n",
              "      <td>3.0</td>\n",
              "      <td>5.0</td>\n",
              "      <td>NaN</td>\n",
              "      <td>NaN</td>\n",
              "      <td>-2.1</td>\n",
              "      <td>1027.3</td>\n",
              "      <td>-23.3</td>\n",
              "      <td>0.0</td>\n",
              "      <td>NW</td>\n",
              "      <td>6.6</td>\n",
              "      <td>Shunyi</td>\n",
              "    </tr>\n",
              "    <tr>\n",
              "      <th>4</th>\n",
              "      <td>5</td>\n",
              "      <td>2013</td>\n",
              "      <td>3</td>\n",
              "      <td>1</td>\n",
              "      <td>4</td>\n",
              "      <td>12.0</td>\n",
              "      <td>12.0</td>\n",
              "      <td>3.0</td>\n",
              "      <td>NaN</td>\n",
              "      <td>200.0</td>\n",
              "      <td>11.0</td>\n",
              "      <td>-2.4</td>\n",
              "      <td>1027.7</td>\n",
              "      <td>-22.9</td>\n",
              "      <td>0.0</td>\n",
              "      <td>NW</td>\n",
              "      <td>4.5</td>\n",
              "      <td>Shunyi</td>\n",
              "    </tr>\n",
              "  </tbody>\n",
              "</table>\n",
              "</div>"
            ],
            "text/plain": [
              "   No  year  month  day  hour  PM2.5  ...    PRES  DEWP  RAIN  wd  WSPM  station\n",
              "0   1  2013      3    1     0    3.0  ...  1025.8 -20.5   0.0  NW   9.3   Shunyi\n",
              "1   2  2013      3    1     1   12.0  ...  1026.1 -21.3   0.0  NW   9.4   Shunyi\n",
              "2   3  2013      3    1     2   14.0  ...  1026.2 -23.0   0.0  NW   8.6   Shunyi\n",
              "3   4  2013      3    1     3   12.0  ...  1027.3 -23.3   0.0  NW   6.6   Shunyi\n",
              "4   5  2013      3    1     4   12.0  ...  1027.7 -22.9   0.0  NW   4.5   Shunyi\n",
              "\n",
              "[5 rows x 18 columns]"
            ]
          },
          "metadata": {
            "tags": []
          },
          "execution_count": 8
        }
      ]
    },
    {
      "cell_type": "code",
      "metadata": {
        "id": "bZkXyTD76fCh"
      },
      "source": [
        "shunyi['valid'] = shunyi[\"year\"].astype(str) + \"-\" + shunyi[\"month\"].astype(str) + \\\n",
        "                      \"-\" + shunyi[\"day\"].astype(str) + \" \" + shunyi[\"hour\"].astype(str)+\\\n",
        "                      \":\" + \"00\""
      ],
      "execution_count": null,
      "outputs": []
    },
    {
      "cell_type": "code",
      "metadata": {
        "id": "gmLPCHoK66UI"
      },
      "source": [
        "shunyi[\"valid\"]= pd.to_datetime(shunyi[\"valid\"])"
      ],
      "execution_count": null,
      "outputs": []
    },
    {
      "cell_type": "code",
      "metadata": {
        "id": "_E1f1pqN67Uy"
      },
      "source": [
        "shunyi = shunyi.drop(columns=\"No\")"
      ],
      "execution_count": null,
      "outputs": []
    },
    {
      "cell_type": "code",
      "metadata": {
        "id": "F4tQw1eEAefk",
        "colab": {
          "base_uri": "https://localhost:8080/"
        },
        "outputId": "b7682d9a-86d7-4639-82ae-b206abd16554"
      },
      "source": [
        "# check the shape of two datasets\n",
        "print(asos.shape)\n",
        "print(shunyi.shape)"
      ],
      "execution_count": null,
      "outputs": [
        {
          "output_type": "stream",
          "text": [
            "(69959, 5)\n",
            "(35064, 18)\n"
          ],
          "name": "stdout"
        }
      ]
    },
    {
      "cell_type": "code",
      "metadata": {
        "id": "0aBMDRtMHYDS",
        "colab": {
          "base_uri": "https://localhost:8080/"
        },
        "outputId": "d2534132-623a-4bd0-9873-52a68d9d92b5"
      },
      "source": [
        "# merge asos dataset and shunyi dataset \n",
        "df = shunyi.merge(asos, how='left',left_on='valid',right_on='valid' )\n",
        "print(df.shape)"
      ],
      "execution_count": null,
      "outputs": [
        {
          "output_type": "stream",
          "text": [
            "(35069, 22)\n"
          ],
          "name": "stdout"
        }
      ]
    },
    {
      "cell_type": "code",
      "metadata": {
        "id": "bj5mvn6MHFiz",
        "colab": {
          "base_uri": "https://localhost:8080/"
        },
        "outputId": "a3f980df-b3ed-4227-d1dc-d70c5739f0df"
      },
      "source": [
        "# There are extra 5 rows because of duplicate issue, we will fix it! Don't  worry!\n",
        "# webdata.drop_duplicates(), maybe like this\n",
        "asos['valid'].astype(str)\n",
        "asos['valid'].value_counts()"
      ],
      "execution_count": null,
      "outputs": [
        {
          "output_type": "execute_result",
          "data": {
            "text/plain": [
              "2014-04-26 07:00:00    3\n",
              "2014-04-26 10:00:00    2\n",
              "2014-04-26 07:30:00    2\n",
              "2014-04-26 10:30:00    2\n",
              "2014-04-26 08:00:00    2\n",
              "                      ..\n",
              "2015-08-07 21:30:00    1\n",
              "2013-04-25 21:30:00    1\n",
              "2016-11-23 12:00:00    1\n",
              "2014-08-12 12:00:00    1\n",
              "2013-06-07 22:00:00    1\n",
              "Name: valid, Length: 69952, dtype: int64"
            ]
          },
          "metadata": {
            "tags": []
          },
          "execution_count": 14
        }
      ]
    },
    {
      "cell_type": "code",
      "metadata": {
        "id": "_yulJ6lPB0ze"
      },
      "source": [
        "# drop duplicate timestamp in asos dataset\n",
        "asos = asos.drop_duplicates(subset=['valid'], keep='first')"
      ],
      "execution_count": null,
      "outputs": []
    },
    {
      "cell_type": "code",
      "metadata": {
        "id": "TnLfhzRNEh7O",
        "colab": {
          "base_uri": "https://localhost:8080/",
          "height": 400
        },
        "outputId": "d86f4c92-3eff-40a6-b824-6b2633193f35"
      },
      "source": [
        "# merge shunyi data and asos data again\n",
        "df = shunyi.merge(asos, how='left',left_on='valid',right_on='valid' )\n",
        "print(df.shape) # (35064,28)\n",
        "df.head()"
      ],
      "execution_count": null,
      "outputs": [
        {
          "output_type": "stream",
          "text": [
            "(35064, 22)\n"
          ],
          "name": "stdout"
        },
        {
          "output_type": "execute_result",
          "data": {
            "text/html": [
              "<div>\n",
              "<style scoped>\n",
              "    .dataframe tbody tr th:only-of-type {\n",
              "        vertical-align: middle;\n",
              "    }\n",
              "\n",
              "    .dataframe tbody tr th {\n",
              "        vertical-align: top;\n",
              "    }\n",
              "\n",
              "    .dataframe thead th {\n",
              "        text-align: right;\n",
              "    }\n",
              "</style>\n",
              "<table border=\"1\" class=\"dataframe\">\n",
              "  <thead>\n",
              "    <tr style=\"text-align: right;\">\n",
              "      <th></th>\n",
              "      <th>year</th>\n",
              "      <th>month</th>\n",
              "      <th>day</th>\n",
              "      <th>hour</th>\n",
              "      <th>PM2.5</th>\n",
              "      <th>PM10</th>\n",
              "      <th>SO2</th>\n",
              "      <th>NO2</th>\n",
              "      <th>CO</th>\n",
              "      <th>O3</th>\n",
              "      <th>TEMP</th>\n",
              "      <th>PRES</th>\n",
              "      <th>DEWP</th>\n",
              "      <th>RAIN</th>\n",
              "      <th>wd</th>\n",
              "      <th>WSPM</th>\n",
              "      <th>station_x</th>\n",
              "      <th>valid</th>\n",
              "      <th>station_y</th>\n",
              "      <th>relh</th>\n",
              "      <th>p01i</th>\n",
              "      <th>vsby</th>\n",
              "    </tr>\n",
              "  </thead>\n",
              "  <tbody>\n",
              "    <tr>\n",
              "      <th>0</th>\n",
              "      <td>2013</td>\n",
              "      <td>3</td>\n",
              "      <td>1</td>\n",
              "      <td>0</td>\n",
              "      <td>3.0</td>\n",
              "      <td>6.0</td>\n",
              "      <td>3.0</td>\n",
              "      <td>8.0</td>\n",
              "      <td>300.0</td>\n",
              "      <td>44.0</td>\n",
              "      <td>-0.9</td>\n",
              "      <td>1025.8</td>\n",
              "      <td>-20.5</td>\n",
              "      <td>0.0</td>\n",
              "      <td>NW</td>\n",
              "      <td>9.3</td>\n",
              "      <td>Shunyi</td>\n",
              "      <td>2013-03-01 00:00:00</td>\n",
              "      <td>ZBAA</td>\n",
              "      <td>20.01</td>\n",
              "      <td>0.0</td>\n",
              "      <td>6.21</td>\n",
              "    </tr>\n",
              "    <tr>\n",
              "      <th>1</th>\n",
              "      <td>2013</td>\n",
              "      <td>3</td>\n",
              "      <td>1</td>\n",
              "      <td>1</td>\n",
              "      <td>12.0</td>\n",
              "      <td>12.0</td>\n",
              "      <td>3.0</td>\n",
              "      <td>7.0</td>\n",
              "      <td>300.0</td>\n",
              "      <td>47.0</td>\n",
              "      <td>-1.1</td>\n",
              "      <td>1026.1</td>\n",
              "      <td>-21.3</td>\n",
              "      <td>0.0</td>\n",
              "      <td>NW</td>\n",
              "      <td>9.4</td>\n",
              "      <td>Shunyi</td>\n",
              "      <td>2013-03-01 01:00:00</td>\n",
              "      <td>ZBAA</td>\n",
              "      <td>13.24</td>\n",
              "      <td>0.0</td>\n",
              "      <td>6.21</td>\n",
              "    </tr>\n",
              "    <tr>\n",
              "      <th>2</th>\n",
              "      <td>2013</td>\n",
              "      <td>3</td>\n",
              "      <td>1</td>\n",
              "      <td>2</td>\n",
              "      <td>14.0</td>\n",
              "      <td>14.0</td>\n",
              "      <td>NaN</td>\n",
              "      <td>7.0</td>\n",
              "      <td>200.0</td>\n",
              "      <td>22.0</td>\n",
              "      <td>-1.7</td>\n",
              "      <td>1026.2</td>\n",
              "      <td>-23.0</td>\n",
              "      <td>0.0</td>\n",
              "      <td>NW</td>\n",
              "      <td>8.6</td>\n",
              "      <td>Shunyi</td>\n",
              "      <td>2013-03-01 02:00:00</td>\n",
              "      <td>ZBAA</td>\n",
              "      <td>13.24</td>\n",
              "      <td>0.0</td>\n",
              "      <td>6.21</td>\n",
              "    </tr>\n",
              "    <tr>\n",
              "      <th>3</th>\n",
              "      <td>2013</td>\n",
              "      <td>3</td>\n",
              "      <td>1</td>\n",
              "      <td>3</td>\n",
              "      <td>12.0</td>\n",
              "      <td>12.0</td>\n",
              "      <td>3.0</td>\n",
              "      <td>5.0</td>\n",
              "      <td>NaN</td>\n",
              "      <td>NaN</td>\n",
              "      <td>-2.1</td>\n",
              "      <td>1027.3</td>\n",
              "      <td>-23.3</td>\n",
              "      <td>0.0</td>\n",
              "      <td>NW</td>\n",
              "      <td>6.6</td>\n",
              "      <td>Shunyi</td>\n",
              "      <td>2013-03-01 03:00:00</td>\n",
              "      <td>ZBAA</td>\n",
              "      <td>11.47</td>\n",
              "      <td>0.0</td>\n",
              "      <td>6.21</td>\n",
              "    </tr>\n",
              "    <tr>\n",
              "      <th>4</th>\n",
              "      <td>2013</td>\n",
              "      <td>3</td>\n",
              "      <td>1</td>\n",
              "      <td>4</td>\n",
              "      <td>12.0</td>\n",
              "      <td>12.0</td>\n",
              "      <td>3.0</td>\n",
              "      <td>NaN</td>\n",
              "      <td>200.0</td>\n",
              "      <td>11.0</td>\n",
              "      <td>-2.4</td>\n",
              "      <td>1027.7</td>\n",
              "      <td>-22.9</td>\n",
              "      <td>0.0</td>\n",
              "      <td>NW</td>\n",
              "      <td>4.5</td>\n",
              "      <td>Shunyi</td>\n",
              "      <td>2013-03-01 04:00:00</td>\n",
              "      <td>ZBAA</td>\n",
              "      <td>11.68</td>\n",
              "      <td>0.0</td>\n",
              "      <td>6.21</td>\n",
              "    </tr>\n",
              "  </tbody>\n",
              "</table>\n",
              "</div>"
            ],
            "text/plain": [
              "   year  month  day  hour  ...  station_y   relh  p01i  vsby\n",
              "0  2013      3    1     0  ...       ZBAA  20.01   0.0  6.21\n",
              "1  2013      3    1     1  ...       ZBAA  13.24   0.0  6.21\n",
              "2  2013      3    1     2  ...       ZBAA  13.24   0.0  6.21\n",
              "3  2013      3    1     3  ...       ZBAA  11.47   0.0  6.21\n",
              "4  2013      3    1     4  ...       ZBAA  11.68   0.0  6.21\n",
              "\n",
              "[5 rows x 22 columns]"
            ]
          },
          "metadata": {
            "tags": []
          },
          "execution_count": 16
        }
      ]
    },
    {
      "cell_type": "code",
      "metadata": {
        "id": "3UJTk8p3sg_i",
        "colab": {
          "base_uri": "https://localhost:8080/",
          "height": 265
        },
        "outputId": "9c4d9537-1290-4e4a-ac37-6158939b353a"
      },
      "source": [
        "# visualize the data\n",
        "df['PM2.5'].plot()\n",
        "plt.show()"
      ],
      "execution_count": null,
      "outputs": [
        {
          "output_type": "display_data",
          "data": {
            "image/png": "[encoded data removed]",
            "text/plain": [
              "<Figure size 432x288 with 1 Axes>"
            ]
          },
          "metadata": {
            "tags": [],
            "needs_background": "light"
          }
        }
      ]
    },
    {
      "cell_type": "code",
      "metadata": {
        "id": "vYOA34CWBiCD"
      },
      "source": [
        "# drop those columns don't need for model\n",
        "df.drop(columns=['wd','station_x','station_y','year','month','day','hour','valid'],inplace=True)"
      ],
      "execution_count": null,
      "outputs": []
    },
    {
      "cell_type": "code",
      "metadata": {
        "id": "E0h6238y-bOI",
        "colab": {
          "base_uri": "https://localhost:8080/"
        },
        "outputId": "f18d775b-ee9d-4500-9967-54c96dffdbd0"
      },
      "source": [
        "df.info()"
      ],
      "execution_count": null,
      "outputs": [
        {
          "output_type": "stream",
          "text": [
            "<class 'pandas.core.frame.DataFrame'>\n",
            "Int64Index: 35064 entries, 0 to 35063\n",
            "Data columns (total 14 columns):\n",
            " #   Column  Non-Null Count  Dtype  \n",
            "---  ------  --------------  -----  \n",
            " 0   PM2.5   34151 non-null  float64\n",
            " 1   PM10    34516 non-null  float64\n",
            " 2   SO2     33768 non-null  float64\n",
            " 3   NO2     33699 non-null  float64\n",
            " 4   CO      32886 non-null  float64\n",
            " 5   O3      33575 non-null  float64\n",
            " 6   TEMP    35013 non-null  float64\n",
            " 7   PRES    35013 non-null  float64\n",
            " 8   DEWP    35010 non-null  float64\n",
            " 9   RAIN    35013 non-null  float64\n",
            " 10  WSPM    35020 non-null  float64\n",
            " 11  relh    34984 non-null  float64\n",
            " 12  p01i    34984 non-null  float64\n",
            " 13  vsby    34984 non-null  float64\n",
            "dtypes: float64(14)\n",
            "memory usage: 4.0 MB\n"
          ],
          "name": "stdout"
        }
      ]
    },
    {
      "cell_type": "code",
      "metadata": {
        "id": "xsUlmKsKGGSy",
        "colab": {
          "base_uri": "https://localhost:8080/"
        },
        "outputId": "d2fbd4e7-8b3b-43b5-b88f-924c31b7c257"
      },
      "source": [
        "# fill in missing value with previous value\n",
        "df=df.fillna(method='ffill')\n",
        "Y=df['PM2.5']\n",
        "X = df.drop(axis=1, columns=['PM2.5'])\n",
        "# put Y all the way on the left\n",
        "df = pd.concat([X, Y], axis=1, sort=False)\n",
        "df.info()"
      ],
      "execution_count": null,
      "outputs": [
        {
          "output_type": "stream",
          "text": [
            "<class 'pandas.core.frame.DataFrame'>\n",
            "Int64Index: 35064 entries, 0 to 35063\n",
            "Data columns (total 14 columns):\n",
            " #   Column  Non-Null Count  Dtype  \n",
            "---  ------  --------------  -----  \n",
            " 0   PM10    35064 non-null  float64\n",
            " 1   SO2     35064 non-null  float64\n",
            " 2   NO2     35064 non-null  float64\n",
            " 3   CO      35064 non-null  float64\n",
            " 4   O3      35064 non-null  float64\n",
            " 5   TEMP    35064 non-null  float64\n",
            " 6   PRES    35064 non-null  float64\n",
            " 7   DEWP    35064 non-null  float64\n",
            " 8   RAIN    35064 non-null  float64\n",
            " 9   WSPM    35064 non-null  float64\n",
            " 10  relh    35064 non-null  float64\n",
            " 11  p01i    35064 non-null  float64\n",
            " 12  vsby    35064 non-null  float64\n",
            " 13  PM2.5   35064 non-null  float64\n",
            "dtypes: float64(14)\n",
            "memory usage: 4.0 MB\n"
          ],
          "name": "stdout"
        }
      ]
    },
    {
      "cell_type": "markdown",
      "metadata": {
        "id": "Nwv2vtHolcOh"
      },
      "source": [
        "# Modeling"
      ]
    },
    {
      "cell_type": "markdown",
      "metadata": {
        "id": "QP8EGR25xUva"
      },
      "source": [
        "## Baseline Model"
      ]
    },
    {
      "cell_type": "code",
      "metadata": {
        "colab": {
          "base_uri": "https://localhost:8080/",
          "height": 195
        },
        "id": "8TxC8i6nUBvJ",
        "outputId": "733d3117-e6f1-4115-c758-38246d36714a"
      },
      "source": [
        "# baseline model - prediction is just the previous time step (a tough one to beat!)\n",
        "df_for_baseline = pd.DataFrame(df['PM2.5'])\n",
        "df_for_baseline['Baseline'] = df_for_baseline['PM2.5'].shift(24)\n",
        "df_for_baseline = df_for_baseline.iloc[24:,:]\n",
        "df_for_baseline.head()"
      ],
      "execution_count": null,
      "outputs": [
        {
          "output_type": "execute_result",
          "data": {
            "text/html": [
              "<div>\n",
              "<style scoped>\n",
              "    .dataframe tbody tr th:only-of-type {\n",
              "        vertical-align: middle;\n",
              "    }\n",
              "\n",
              "    .dataframe tbody tr th {\n",
              "        vertical-align: top;\n",
              "    }\n",
              "\n",
              "    .dataframe thead th {\n",
              "        text-align: right;\n",
              "    }\n",
              "</style>\n",
              "<table border=\"1\" class=\"dataframe\">\n",
              "  <thead>\n",
              "    <tr style=\"text-align: right;\">\n",
              "      <th></th>\n",
              "      <th>PM2.5</th>\n",
              "      <th>Baseline</th>\n",
              "    </tr>\n",
              "  </thead>\n",
              "  <tbody>\n",
              "    <tr>\n",
              "      <th>24</th>\n",
              "      <td>5.0</td>\n",
              "      <td>3.0</td>\n",
              "    </tr>\n",
              "    <tr>\n",
              "      <th>25</th>\n",
              "      <td>3.0</td>\n",
              "      <td>12.0</td>\n",
              "    </tr>\n",
              "    <tr>\n",
              "      <th>26</th>\n",
              "      <td>4.0</td>\n",
              "      <td>14.0</td>\n",
              "    </tr>\n",
              "    <tr>\n",
              "      <th>27</th>\n",
              "      <td>8.0</td>\n",
              "      <td>12.0</td>\n",
              "    </tr>\n",
              "    <tr>\n",
              "      <th>28</th>\n",
              "      <td>6.0</td>\n",
              "      <td>12.0</td>\n",
              "    </tr>\n",
              "  </tbody>\n",
              "</table>\n",
              "</div>"
            ],
            "text/plain": [
              "    PM2.5  Baseline\n",
              "24    5.0       3.0\n",
              "25    3.0      12.0\n",
              "26    4.0      14.0\n",
              "27    8.0      12.0\n",
              "28    6.0      12.0"
            ]
          },
          "metadata": {
            "tags": []
          },
          "execution_count": 21
        }
      ]
    },
    {
      "cell_type": "code",
      "metadata": {
        "colab": {
          "base_uri": "https://localhost:8080/",
          "height": 308
        },
        "id": "qUb_RTWwyJq6",
        "outputId": "27a7a154-d992-4ea4-a848-1c5c433c7a8b"
      },
      "source": [
        "# now set this equal to pred and repeat code!\n",
        "\n",
        "# show scatterplots of actual vs. predicted for train and test\n",
        "# make a prediction\n",
        "pred = df_for_baseline['Baseline'] # the pred\n",
        "actual = df_for_baseline['PM2.5'] # the actual\n",
        "plt.scatter(x=actual, y=pred)\n",
        "x = np.linspace(0,800) # 45 degree line from 0 to 25 (axes are the same)\n",
        "plt.plot(x, x, color='red')\n",
        "plt.suptitle('Test Results')\n",
        "plt.xlabel('Actual')\n",
        "plt.ylabel('Predicted')\n",
        "plt.show()\n",
        "# looks not good!"
      ],
      "execution_count": null,
      "outputs": [
        {
          "output_type": "display_data",
          "data": {
            "image/png": "[encoded data removed]",
            "text/plain": [
              "<Figure size 432x288 with 1 Axes>"
            ]
          },
          "metadata": {
            "tags": [],
            "needs_background": "light"
          }
        }
      ]
    },
    {
      "cell_type": "code",
      "metadata": {
        "colab": {
          "base_uri": "https://localhost:8080/"
        },
        "id": "xmF0VXghSCWK",
        "outputId": "71c93dda-bbe2-4c3c-dd41-ec0f0b0e2e57"
      },
      "source": [
        "from sklearn import metrics\n",
        "print(\"Baseline MAE:\", metrics.mean_absolute_error(actual,pred))\n",
        "print(\"Baseline MSE:\",metrics.mean_squared_error(actual,pred))"
      ],
      "execution_count": null,
      "outputs": [
        {
          "output_type": "stream",
          "text": [
            "Baseline MAE: 59.76905251141553\n",
            "Baseline MSE: 8159.308686643835\n"
          ],
          "name": "stdout"
        }
      ]
    },
    {
      "cell_type": "markdown",
      "metadata": {
        "id": "5v7w6bNEJi4e"
      },
      "source": [
        "## Sequence"
      ]
    },
    {
      "cell_type": "code",
      "metadata": {
        "id": "3XS_8c-DxD3j",
        "colab": {
          "base_uri": "https://localhost:8080/",
          "height": 402
        },
        "outputId": "120e8b89-ac30-4872-f905-bfd806357302"
      },
      "source": [
        "# shift our target forward one hour.\n",
        "# we want to use today's 24 hour data to predict the next 24 hour PM2.5 data.\n",
        "df['PM2.5-1']=df['PM2.5'].shift(-1,fill_value=0)\n",
        "df.drop(columns=['PM2.5'],inplace=True)\n",
        "df"
      ],
      "execution_count": null,
      "outputs": [
        {
          "output_type": "execute_result",
          "data": {
            "text/html": [
              "<div>\n",
              "<style scoped>\n",
              "    .dataframe tbody tr th:only-of-type {\n",
              "        vertical-align: middle;\n",
              "    }\n",
              "\n",
              "    .dataframe tbody tr th {\n",
              "        vertical-align: top;\n",
              "    }\n",
              "\n",
              "    .dataframe thead th {\n",
              "        text-align: right;\n",
              "    }\n",
              "</style>\n",
              "<table border=\"1\" class=\"dataframe\">\n",
              "  <thead>\n",
              "    <tr style=\"text-align: right;\">\n",
              "      <th></th>\n",
              "      <th>PM10</th>\n",
              "      <th>SO2</th>\n",
              "      <th>NO2</th>\n",
              "      <th>CO</th>\n",
              "      <th>O3</th>\n",
              "      <th>TEMP</th>\n",
              "      <th>PRES</th>\n",
              "      <th>DEWP</th>\n",
              "      <th>RAIN</th>\n",
              "      <th>WSPM</th>\n",
              "      <th>relh</th>\n",
              "      <th>p01i</th>\n",
              "      <th>vsby</th>\n",
              "      <th>PM2.5-1</th>\n",
              "    </tr>\n",
              "  </thead>\n",
              "  <tbody>\n",
              "    <tr>\n",
              "      <th>0</th>\n",
              "      <td>6.0</td>\n",
              "      <td>3.0</td>\n",
              "      <td>8.0</td>\n",
              "      <td>300.0</td>\n",
              "      <td>44.0</td>\n",
              "      <td>-0.9</td>\n",
              "      <td>1025.8</td>\n",
              "      <td>-20.5</td>\n",
              "      <td>0.0</td>\n",
              "      <td>9.3</td>\n",
              "      <td>20.01</td>\n",
              "      <td>0.0</td>\n",
              "      <td>6.21</td>\n",
              "      <td>12.0</td>\n",
              "    </tr>\n",
              "    <tr>\n",
              "      <th>1</th>\n",
              "      <td>12.0</td>\n",
              "      <td>3.0</td>\n",
              "      <td>7.0</td>\n",
              "      <td>300.0</td>\n",
              "      <td>47.0</td>\n",
              "      <td>-1.1</td>\n",
              "      <td>1026.1</td>\n",
              "      <td>-21.3</td>\n",
              "      <td>0.0</td>\n",
              "      <td>9.4</td>\n",
              "      <td>13.24</td>\n",
              "      <td>0.0</td>\n",
              "      <td>6.21</td>\n",
              "      <td>14.0</td>\n",
              "    </tr>\n",
              "    <tr>\n",
              "      <th>2</th>\n",
              "      <td>14.0</td>\n",
              "      <td>3.0</td>\n",
              "      <td>7.0</td>\n",
              "      <td>200.0</td>\n",
              "      <td>22.0</td>\n",
              "      <td>-1.7</td>\n",
              "      <td>1026.2</td>\n",
              "      <td>-23.0</td>\n",
              "      <td>0.0</td>\n",
              "      <td>8.6</td>\n",
              "      <td>13.24</td>\n",
              "      <td>0.0</td>\n",
              "      <td>6.21</td>\n",
              "      <td>12.0</td>\n",
              "    </tr>\n",
              "    <tr>\n",
              "      <th>3</th>\n",
              "      <td>12.0</td>\n",
              "      <td>3.0</td>\n",
              "      <td>5.0</td>\n",
              "      <td>200.0</td>\n",
              "      <td>22.0</td>\n",
              "      <td>-2.1</td>\n",
              "      <td>1027.3</td>\n",
              "      <td>-23.3</td>\n",
              "      <td>0.0</td>\n",
              "      <td>6.6</td>\n",
              "      <td>11.47</td>\n",
              "      <td>0.0</td>\n",
              "      <td>6.21</td>\n",
              "      <td>12.0</td>\n",
              "    </tr>\n",
              "    <tr>\n",
              "      <th>4</th>\n",
              "      <td>12.0</td>\n",
              "      <td>3.0</td>\n",
              "      <td>5.0</td>\n",
              "      <td>200.0</td>\n",
              "      <td>11.0</td>\n",
              "      <td>-2.4</td>\n",
              "      <td>1027.7</td>\n",
              "      <td>-22.9</td>\n",
              "      <td>0.0</td>\n",
              "      <td>4.5</td>\n",
              "      <td>11.68</td>\n",
              "      <td>0.0</td>\n",
              "      <td>6.21</td>\n",
              "      <td>11.0</td>\n",
              "    </tr>\n",
              "    <tr>\n",
              "      <th>...</th>\n",
              "      <td>...</td>\n",
              "      <td>...</td>\n",
              "      <td>...</td>\n",
              "      <td>...</td>\n",
              "      <td>...</td>\n",
              "      <td>...</td>\n",
              "      <td>...</td>\n",
              "      <td>...</td>\n",
              "      <td>...</td>\n",
              "      <td>...</td>\n",
              "      <td>...</td>\n",
              "      <td>...</td>\n",
              "      <td>...</td>\n",
              "      <td>...</td>\n",
              "    </tr>\n",
              "    <tr>\n",
              "      <th>35059</th>\n",
              "      <td>72.0</td>\n",
              "      <td>8.0</td>\n",
              "      <td>92.0</td>\n",
              "      <td>800.0</td>\n",
              "      <td>16.0</td>\n",
              "      <td>10.3</td>\n",
              "      <td>1014.2</td>\n",
              "      <td>-12.4</td>\n",
              "      <td>0.0</td>\n",
              "      <td>1.8</td>\n",
              "      <td>28.64</td>\n",
              "      <td>0.0</td>\n",
              "      <td>6.21</td>\n",
              "      <td>47.0</td>\n",
              "    </tr>\n",
              "    <tr>\n",
              "      <th>35060</th>\n",
              "      <td>55.0</td>\n",
              "      <td>17.0</td>\n",
              "      <td>86.0</td>\n",
              "      <td>1100.0</td>\n",
              "      <td>19.0</td>\n",
              "      <td>9.8</td>\n",
              "      <td>1014.5</td>\n",
              "      <td>-9.9</td>\n",
              "      <td>0.0</td>\n",
              "      <td>1.5</td>\n",
              "      <td>28.64</td>\n",
              "      <td>0.0</td>\n",
              "      <td>6.21</td>\n",
              "      <td>18.0</td>\n",
              "    </tr>\n",
              "    <tr>\n",
              "      <th>35061</th>\n",
              "      <td>28.0</td>\n",
              "      <td>4.0</td>\n",
              "      <td>30.0</td>\n",
              "      <td>500.0</td>\n",
              "      <td>64.0</td>\n",
              "      <td>9.1</td>\n",
              "      <td>1014.6</td>\n",
              "      <td>-12.7</td>\n",
              "      <td>0.0</td>\n",
              "      <td>1.7</td>\n",
              "      <td>28.64</td>\n",
              "      <td>0.0</td>\n",
              "      <td>6.21</td>\n",
              "      <td>18.0</td>\n",
              "    </tr>\n",
              "    <tr>\n",
              "      <th>35062</th>\n",
              "      <td>20.0</td>\n",
              "      <td>9.0</td>\n",
              "      <td>33.0</td>\n",
              "      <td>500.0</td>\n",
              "      <td>59.0</td>\n",
              "      <td>7.1</td>\n",
              "      <td>1015.2</td>\n",
              "      <td>-13.2</td>\n",
              "      <td>0.0</td>\n",
              "      <td>1.8</td>\n",
              "      <td>28.64</td>\n",
              "      <td>0.0</td>\n",
              "      <td>6.21</td>\n",
              "      <td>15.0</td>\n",
              "    </tr>\n",
              "    <tr>\n",
              "      <th>35063</th>\n",
              "      <td>22.0</td>\n",
              "      <td>13.0</td>\n",
              "      <td>34.0</td>\n",
              "      <td>500.0</td>\n",
              "      <td>60.0</td>\n",
              "      <td>7.4</td>\n",
              "      <td>1014.9</td>\n",
              "      <td>-11.9</td>\n",
              "      <td>0.0</td>\n",
              "      <td>1.4</td>\n",
              "      <td>28.64</td>\n",
              "      <td>0.0</td>\n",
              "      <td>6.21</td>\n",
              "      <td>0.0</td>\n",
              "    </tr>\n",
              "  </tbody>\n",
              "</table>\n",
              "<p>35064 rows × 14 columns</p>\n",
              "</div>"
            ],
            "text/plain": [
              "       PM10   SO2   NO2      CO    O3  ...  WSPM   relh  p01i  vsby  PM2.5-1\n",
              "0       6.0   3.0   8.0   300.0  44.0  ...   9.3  20.01   0.0  6.21     12.0\n",
              "1      12.0   3.0   7.0   300.0  47.0  ...   9.4  13.24   0.0  6.21     14.0\n",
              "2      14.0   3.0   7.0   200.0  22.0  ...   8.6  13.24   0.0  6.21     12.0\n",
              "3      12.0   3.0   5.0   200.0  22.0  ...   6.6  11.47   0.0  6.21     12.0\n",
              "4      12.0   3.0   5.0   200.0  11.0  ...   4.5  11.68   0.0  6.21     11.0\n",
              "...     ...   ...   ...     ...   ...  ...   ...    ...   ...   ...      ...\n",
              "35059  72.0   8.0  92.0   800.0  16.0  ...   1.8  28.64   0.0  6.21     47.0\n",
              "35060  55.0  17.0  86.0  1100.0  19.0  ...   1.5  28.64   0.0  6.21     18.0\n",
              "35061  28.0   4.0  30.0   500.0  64.0  ...   1.7  28.64   0.0  6.21     18.0\n",
              "35062  20.0   9.0  33.0   500.0  59.0  ...   1.8  28.64   0.0  6.21     15.0\n",
              "35063  22.0  13.0  34.0   500.0  60.0  ...   1.4  28.64   0.0  6.21      0.0\n",
              "\n",
              "[35064 rows x 14 columns]"
            ]
          },
          "metadata": {
            "tags": []
          },
          "execution_count": 24
        }
      ]
    },
    {
      "cell_type": "code",
      "metadata": {
        "id": "efrO3SndHqSV"
      },
      "source": [
        "# use split_sequences function to create 24 output.\n",
        "# since we want to predict the next 24 hour pm2.5 data.\n",
        "\n",
        "# split a multivariate sequence into samples\n",
        "def split_sequences(sequences, n_steps_in, n_steps_out):\n",
        "\tX, y = list(), list()\n",
        "\tfor i in range(len(sequences)):\n",
        "\t\t# find the end of this pattern\n",
        "\t\tend_ix = i + n_steps_in\n",
        "\t\tout_end_ix = end_ix + n_steps_out-1\n",
        "\t\t# check if we are beyond the dataset\n",
        "\t\tif out_end_ix > len(sequences):\n",
        "\t\t\tbreak\n",
        "\t\t# gather input and output parts of the pattern\n",
        "\t\tseq_x, seq_y = sequences[i:end_ix, :-1], sequences[end_ix-1:out_end_ix, -1]\n",
        "\t\tX.append(seq_x)\n",
        "\t\ty.append(seq_y)\n",
        "\treturn np.array(X), np.array(y)"
      ],
      "execution_count": null,
      "outputs": []
    },
    {
      "cell_type": "code",
      "metadata": {
        "id": "bZRMzRdbIlpp",
        "colab": {
          "base_uri": "https://localhost:8080/"
        },
        "outputId": "540d48e0-0c24-41e8-816c-02a4155303ba"
      },
      "source": [
        "n_steps_in = 24\n",
        "n_steps_out = 24\n",
        "raw_seq = np.array(df) #make sure your data is stored as a numpy array!\n",
        "# let's ignore the date column and just use the temperature data\n",
        "X, y = split_sequences(raw_seq, n_steps_in, n_steps_out)\n",
        "print(X.shape)\n",
        "print(y.shape)"
      ],
      "execution_count": null,
      "outputs": [
        {
          "output_type": "stream",
          "text": [
            "(35018, 24, 13)\n",
            "(35018, 24)\n"
          ],
          "name": "stdout"
        }
      ]
    },
    {
      "cell_type": "code",
      "metadata": {
        "id": "9wTf62m3JHyK",
        "colab": {
          "base_uri": "https://localhost:8080/"
        },
        "outputId": "26c10f1a-27e3-482a-9680-54f97bc5f49f"
      },
      "source": [
        "# split the data into train and test partitions\n",
        "# we will use 60% of the data for train, and 40% for validation\n",
        "train_pct_index = int(0.6 * len(X))\n",
        "X_train, X_test = X[:train_pct_index], X[train_pct_index:]\n",
        "y_train, y_test = y[:train_pct_index], y[train_pct_index:]\n",
        "print(X.shape, X_train.shape, X_test.shape)\n",
        "print(y.shape, y_train.shape, y_test.shape)"
      ],
      "execution_count": null,
      "outputs": [
        {
          "output_type": "stream",
          "text": [
            "(35018, 24, 13) (21010, 24, 13) (14008, 24, 13)\n",
            "(35018, 24) (21010, 24) (14008, 24)\n"
          ],
          "name": "stdout"
        }
      ]
    },
    {
      "cell_type": "markdown",
      "metadata": {
        "id": "NhxInOCEJoJL"
      },
      "source": [
        "## Model1\n",
        "simple model"
      ]
    },
    {
      "cell_type": "code",
      "metadata": {
        "id": "-w3B1PU2JhQ-",
        "colab": {
          "base_uri": "https://localhost:8080/"
        },
        "outputId": "58feeeb1-c9b1-45ae-a5e1-03c0e0bfa0b1"
      },
      "source": [
        "# now let's build a model\n",
        "\n",
        "# define\n",
        "n_steps = X_train.shape[1]\n",
        "n_features = X_train.shape[2]\n",
        "\n",
        "\n",
        "# define model\n",
        "model = Sequential()\n",
        "model.add(LSTM(30, input_shape=(n_steps,n_features), activation='relu')) # 30 red dots = hidden size of 30\n",
        "model.add(Dense(n_steps_out))\n",
        "model.compile(optimizer='rmsprop', loss='mse',metrics=['mae'])\n",
        "model.summary()\n",
        "\n",
        "es = EarlyStopping(monitor='val_loss', mode='min', \n",
        "                   patience=10, \n",
        "                   verbose=1,\n",
        "                   restore_best_weights=True)\n",
        "\n",
        "# fit model (uses early stopping)\n",
        "history = model.fit(X_train, y_train, \n",
        "          epochs=500, \n",
        "          batch_size=5, \n",
        "          validation_split=0.2, \n",
        "          verbose=1,\n",
        "          callbacks=[es],\n",
        "          shuffle=True)"
      ],
      "execution_count": null,
      "outputs": [
        {
          "output_type": "stream",
          "text": [
            "Model: \"sequential\"\n",
            "_________________________________________________________________\n",
            "Layer (type)                 Output Shape              Param #   \n",
            "=================================================================\n",
            "lstm (LSTM)                  (None, 30)                5280      \n",
            "_________________________________________________________________\n",
            "dense (Dense)                (None, 24)                744       \n",
            "=================================================================\n",
            "Total params: 6,024\n",
            "Trainable params: 6,024\n",
            "Non-trainable params: 0\n",
            "_________________________________________________________________\n",
            "Epoch 1/500\n",
            "3362/3362 [==============================] - 40s 12ms/step - loss: 36917.7031 - mae: 77.4282 - val_loss: 5894.0249 - val_mae: 44.9523\n",
            "Epoch 2/500\n",
            "3362/3362 [==============================] - 43s 13ms/step - loss: 4301.4458 - mae: 46.9421 - val_loss: 2830.1011 - val_mae: 38.0309\n",
            "Epoch 3/500\n",
            "3362/3362 [==============================] - 55s 16ms/step - loss: 3791.7507 - mae: 43.7612 - val_loss: 2823.5059 - val_mae: 37.5535\n",
            "Epoch 4/500\n",
            "3362/3362 [==============================] - 43s 13ms/step - loss: 3783.1055 - mae: 43.4156 - val_loss: 2728.5496 - val_mae: 37.9913\n",
            "Epoch 5/500\n",
            "3362/3362 [==============================] - 38s 11ms/step - loss: 3639.8794 - mae: 42.5169 - val_loss: 2730.9993 - val_mae: 36.5802\n",
            "Epoch 6/500\n",
            "3362/3362 [==============================] - 37s 11ms/step - loss: 3538.0239 - mae: 41.9374 - val_loss: 2789.1030 - val_mae: 38.6381\n",
            "Epoch 7/500\n",
            "3362/3362 [==============================] - 41s 12ms/step - loss: 3500.9915 - mae: 41.5108 - val_loss: 2503.6599 - val_mae: 36.0514\n",
            "Epoch 8/500\n",
            "3362/3362 [==============================] - 41s 12ms/step - loss: 3238.2793 - mae: 39.9634 - val_loss: 2863.6345 - val_mae: 37.2724\n",
            "Epoch 9/500\n",
            "3362/3362 [==============================] - 39s 12ms/step - loss: 3193.0918 - mae: 39.5042 - val_loss: 2681.1841 - val_mae: 35.8510\n",
            "Epoch 10/500\n",
            "3362/3362 [==============================] - 43s 13ms/step - loss: 3128.1663 - mae: 38.9421 - val_loss: 2689.2107 - val_mae: 34.6679\n",
            "Epoch 11/500\n",
            "3362/3362 [==============================] - 41s 12ms/step - loss: 3084.2236 - mae: 38.6863 - val_loss: 2942.6575 - val_mae: 36.1148\n",
            "Epoch 12/500\n",
            "3362/3362 [==============================] - 39s 12ms/step - loss: 3024.1738 - mae: 38.2684 - val_loss: 2366.9988 - val_mae: 34.3372\n",
            "Epoch 13/500\n",
            "3362/3362 [==============================] - 39s 12ms/step - loss: 2993.8059 - mae: 38.0213 - val_loss: 2337.4036 - val_mae: 33.1764\n",
            "Epoch 14/500\n",
            "3362/3362 [==============================] - 39s 12ms/step - loss: 2942.6089 - mae: 37.7002 - val_loss: 2202.5750 - val_mae: 32.5034\n",
            "Epoch 15/500\n",
            "3362/3362 [==============================] - 39s 12ms/step - loss: 2890.5042 - mae: 37.3127 - val_loss: 2325.4961 - val_mae: 32.7977\n",
            "Epoch 16/500\n",
            "3362/3362 [==============================] - 42s 12ms/step - loss: 2872.1831 - mae: 37.1359 - val_loss: 2212.1765 - val_mae: 32.3408\n",
            "Epoch 17/500\n",
            "3362/3362 [==============================] - 38s 11ms/step - loss: 2844.1558 - mae: 36.8448 - val_loss: 2188.1079 - val_mae: 32.1641\n",
            "Epoch 18/500\n",
            "3362/3362 [==============================] - 41s 12ms/step - loss: 2842.7700 - mae: 36.9075 - val_loss: 2208.9683 - val_mae: 32.3058\n",
            "Epoch 19/500\n",
            "3362/3362 [==============================] - 40s 12ms/step - loss: 2853.5801 - mae: 36.9363 - val_loss: 2263.0874 - val_mae: 32.9916\n",
            "Epoch 20/500\n",
            "3362/3362 [==============================] - 44s 13ms/step - loss: 2805.5005 - mae: 36.6888 - val_loss: 2116.4497 - val_mae: 32.3837\n",
            "Epoch 21/500\n",
            "3362/3362 [==============================] - 43s 13ms/step - loss: 2805.8464 - mae: 36.6446 - val_loss: 2408.0559 - val_mae: 33.5557\n",
            "Epoch 22/500\n",
            "3362/3362 [==============================] - 40s 12ms/step - loss: 2786.6274 - mae: 36.4893 - val_loss: 2151.0283 - val_mae: 32.3225\n",
            "Epoch 23/500\n",
            "3362/3362 [==============================] - 38s 11ms/step - loss: 2771.5686 - mae: 36.3907 - val_loss: 2296.8779 - val_mae: 33.0770\n",
            "Epoch 24/500\n",
            "3362/3362 [==============================] - 42s 13ms/step - loss: 2792.8774 - mae: 36.4883 - val_loss: 2158.3242 - val_mae: 31.8429\n",
            "Epoch 25/500\n",
            "3362/3362 [==============================] - 42s 12ms/step - loss: 2771.8579 - mae: 36.4069 - val_loss: 2410.5254 - val_mae: 33.2839\n",
            "Epoch 26/500\n",
            "3362/3362 [==============================] - 38s 11ms/step - loss: 2770.2698 - mae: 36.3131 - val_loss: 2434.5317 - val_mae: 33.5980\n",
            "Epoch 27/500\n",
            "3362/3362 [==============================] - 38s 11ms/step - loss: 2742.7917 - mae: 36.1909 - val_loss: 2178.7737 - val_mae: 32.9282\n",
            "Epoch 28/500\n",
            "3362/3362 [==============================] - 47s 14ms/step - loss: 2748.5708 - mae: 36.2083 - val_loss: 2522.6414 - val_mae: 34.9587\n",
            "Epoch 29/500\n",
            "3362/3362 [==============================] - 40s 12ms/step - loss: 2726.7754 - mae: 36.0692 - val_loss: 2188.5645 - val_mae: 32.0765\n",
            "Epoch 30/500\n",
            "3361/3362 [============================>.] - ETA: 0s - loss: 2717.8206 - mae: 35.9129Restoring model weights from the end of the best epoch.\n",
            "3362/3362 [==============================] - 35s 11ms/step - loss: 2717.7400 - mae: 35.9134 - val_loss: 2254.7947 - val_mae: 33.5488\n",
            "Epoch 00030: early stopping\n"
          ],
          "name": "stdout"
        }
      ]
    },
    {
      "cell_type": "code",
      "metadata": {
        "id": "ee3CzvB2gE-4",
        "colab": {
          "base_uri": "https://localhost:8080/"
        },
        "outputId": "6cccba64-15ae-485e-fec6-fee72ffa8c27"
      },
      "source": [
        "y_test[0]"
      ],
      "execution_count": null,
      "outputs": [
        {
          "output_type": "execute_result",
          "data": {
            "text/plain": [
              "array([ 65.,  84., 101., 115., 130., 113.,  88.,  74.,  64.,  57.,  72.,\n",
              "       104., 125., 136., 138., 145., 151., 154., 156., 159., 155., 166.,\n",
              "       177., 163.])"
            ]
          },
          "metadata": {
            "tags": []
          },
          "execution_count": 30
        }
      ]
    },
    {
      "cell_type": "code",
      "metadata": {
        "colab": {
          "base_uri": "https://localhost:8080/",
          "height": 342
        },
        "id": "5VVpDnpHLOQo",
        "outputId": "1e39612a-f3b7-46f0-ee89-a59883df3bad"
      },
      "source": [
        "# 1st hour prediction\n",
        "pred = model.predict(X_test)\n",
        "\n",
        "print(\"MAE:\", metrics.mean_absolute_error(y_test[:,0],pred[:,0]))\n",
        "print(\"MSE:\",metrics.mean_squared_error(y_test[:,0],pred[:,0]))\n",
        "\n",
        "plt.scatter(y_test[:,0], pred[:,0])\n",
        "plt.plot(pred[:,0], pred[:,0], color='red')\n",
        "plt.suptitle('Test Results')\n",
        "plt.xlabel('Actual')\n",
        "plt.ylabel('Predicted')\n",
        "plt.show()\n"
      ],
      "execution_count": null,
      "outputs": [
        {
          "output_type": "stream",
          "text": [
            "MAE: 20.832007772252517\n",
            "MSE: 1122.5791439274685\n"
          ],
          "name": "stdout"
        },
        {
          "output_type": "display_data",
          "data": {
            "image/png": "[encoded data removed]",
            "text/plain": [
              "<Figure size 432x288 with 1 Axes>"
            ]
          },
          "metadata": {
            "tags": [],
            "needs_background": "light"
          }
        }
      ]
    },
    {
      "cell_type": "code",
      "metadata": {
        "colab": {
          "base_uri": "https://localhost:8080/",
          "height": 342
        },
        "id": "p0ywbQ4TLSD3",
        "outputId": "bb376440-58c3-44b5-9c14-538336e82737"
      },
      "source": [
        "# 12nd hour prediction\n",
        "print(\"MAE:\", metrics.mean_absolute_error(y_test[:,11],pred[:,11]))\n",
        "print(\"MSE:\",metrics.mean_squared_error(y_test[:,11],pred[:,11]))\n",
        "\n",
        "plt.scatter(y_test[:,11], pred[:,11])\n",
        "plt.plot(pred[:,11], pred[:,11], color='red')\n",
        "plt.suptitle('Test Results')\n",
        "plt.xlabel('Actual')\n",
        "plt.ylabel('Predicted')\n",
        "plt.show()"
      ],
      "execution_count": null,
      "outputs": [
        {
          "output_type": "stream",
          "text": [
            "MAE: 41.460221512388884\n",
            "MSE: 4415.043383637582\n"
          ],
          "name": "stdout"
        },
        {
          "output_type": "display_data",
          "data": {
            "image/png": "[encoded data removed]",
            "text/plain": [
              "<Figure size 432x288 with 1 Axes>"
            ]
          },
          "metadata": {
            "tags": [],
            "needs_background": "light"
          }
        }
      ]
    },
    {
      "cell_type": "code",
      "metadata": {
        "colab": {
          "base_uri": "https://localhost:8080/",
          "height": 342
        },
        "id": "5F8igPLKLTD-",
        "outputId": "b596b4c7-7fe5-4bad-b673-9ef17460bd62"
      },
      "source": [
        "# 24th hour prediction\n",
        "print(\"MAE:\", metrics.mean_absolute_error(y_test[:,23],pred[:,23]))\n",
        "print(\"MSE:\",metrics.mean_squared_error(y_test[:,23],pred[:,23]))\n",
        "\n",
        "plt.scatter(y_test[:,23], pred[:,23])\n",
        "plt.plot(pred[:,23], pred[:,23], color='red')\n",
        "plt.suptitle('Test Results')\n",
        "plt.xlabel('Actual')\n",
        "plt.ylabel('Predicted')\n",
        "plt.show()"
      ],
      "execution_count": null,
      "outputs": [
        {
          "output_type": "stream",
          "text": [
            "MAE: 53.068400055791294\n",
            "MSE: 6447.36510931283\n"
          ],
          "name": "stdout"
        },
        {
          "output_type": "display_data",
          "data": {
            "image/png": "[encoded data removed]",
            "text/plain": [
              "<Figure size 432x288 with 1 Axes>"
            ]
          },
          "metadata": {
            "tags": [],
            "needs_background": "light"
          }
        }
      ]
    },
    {
      "cell_type": "code",
      "metadata": {
        "id": "a8infWrQJ5DT",
        "colab": {
          "base_uri": "https://localhost:8080/",
          "height": 616
        },
        "outputId": "222dd5fe-8714-41a1-eeca-fd0475c248da"
      },
      "source": [
        "# show scatterplots of actual vs. predicted for train and test\n",
        "# make a prediction\n",
        "pred = model.predict(X_test)# the pred\n",
        "\n",
        "# calculate MSE for the baseline model\n",
        "from sklearn.metrics import mean_absolute_error\n",
        "print('MAE: ', mean_absolute_error(y_test, pred))\n",
        "\n",
        "actual = y_test # the actual\n",
        "plt.scatter(x=actual, y=pred)\n",
        "x = np.linspace(0,25) # 45 degree line from 0 to 25 (axes are the same)\n",
        "plt.plot(y, y, color='red')\n",
        "plt.suptitle('Test Results')\n",
        "plt.xlabel('Actual')\n",
        "plt.ylabel('Predicted')\n",
        "plt.show()\n",
        "\n",
        "# show timeseries plot on the train and validation data\n",
        "plt.plot(np.arange(X_test.shape[0]), y_test, color='blue') # actual data\n",
        "plt.plot(np.arange(X_test.shape[0]), pred, color='red') # predicted data\n",
        "plt.suptitle('Test Results')\n",
        "plt.xlabel('Time')\n",
        "plt.ylabel('PM2.5')\n",
        "plt.show()\n",
        "\n",
        "# there are many negative prediction which is not relaible as concentration should over 0."
      ],
      "execution_count": null,
      "outputs": [
        {
          "output_type": "stream",
          "text": [
            "MAE:  40.50384444974637\n"
          ],
          "name": "stdout"
        },
        {
          "output_type": "display_data",
          "data": {
            "image/png": "[encoded data removed]",
            "text/plain": [
              "<Figure size 432x288 with 1 Axes>"
            ]
          },
          "metadata": {
            "tags": [],
            "needs_background": "light"
          }
        },
        {
          "output_type": "display_data",
          "data": {
            "image/png": "[encoded data removed]",
            "text/plain": [
              "<Figure size 432x288 with 1 Axes>"
            ]
          },
          "metadata": {
            "tags": [],
            "needs_background": "light"
          }
        }
      ]
    },
    {
      "cell_type": "markdown",
      "metadata": {
        "id": "wVvUMFL-pOaB"
      },
      "source": [
        "## Model2\n",
        "adding complexity"
      ]
    },
    {
      "cell_type": "code",
      "metadata": {
        "id": "BeHxEP5OpRnk",
        "colab": {
          "base_uri": "https://localhost:8080/"
        },
        "outputId": "b62cd9a0-bc58-465b-8416-95e3fe9d1dcc"
      },
      "source": [
        "# now let's build a model\n",
        "\n",
        "# define\n",
        "n_steps = X_train.shape[1]\n",
        "n_features = X_train.shape[2]\n",
        "\n",
        "\n",
        "# define model\n",
        "model_2 = Sequential()\n",
        "model_2.add(Conv1D(filters=32, kernel_size=3, input_shape=(n_steps,n_features))) # notice how input shape goes in first layer\n",
        "model_2.add(MaxPooling1D())\n",
        "model_2.add(Conv1D(filters=32, kernel_size=3)) # notice how input shape goes in first layer\n",
        "model_2.add(MaxPooling1D())\n",
        "model_2.add(LSTM(30,\n",
        "               return_sequences=True, # remember, if stacking layers, you need to return sequences!\n",
        "               input_shape=(n_steps,n_features),\n",
        "               activation='relu'))\n",
        "model_2.add(Dropout(0.1))\n",
        "model_2.add(LSTM(20, activation='relu'))\n",
        "model_2.add(Dropout(0.1))\n",
        "model_2.add(Dense(n_steps_out))\n",
        "model_2.compile(optimizer='rmsprop', loss='mse',metrics=['mae'])\n",
        "model_2.summary()\n",
        "\n",
        "es = EarlyStopping(monitor='val_loss', mode='min', \n",
        "                   patience=10, \n",
        "                   verbose=1,\n",
        "                   restore_best_weights=True)\n",
        "\n",
        "# fit model (uses early stopping)\n",
        "history_2 = model_2.fit(X_train, y_train, \n",
        "          epochs=500, \n",
        "          batch_size=5, \n",
        "          validation_split=0.2, \n",
        "          verbose=1,\n",
        "          callbacks=[es],\n",
        "          shuffle=True)"
      ],
      "execution_count": null,
      "outputs": [
        {
          "output_type": "stream",
          "text": [
            "Model: \"sequential_1\"\n",
            "_________________________________________________________________\n",
            "Layer (type)                 Output Shape              Param #   \n",
            "=================================================================\n",
            "conv1d (Conv1D)              (None, 22, 32)            1280      \n",
            "_________________________________________________________________\n",
            "max_pooling1d (MaxPooling1D) (None, 11, 32)            0         \n",
            "_________________________________________________________________\n",
            "conv1d_1 (Conv1D)            (None, 9, 32)             3104      \n",
            "_________________________________________________________________\n",
            "max_pooling1d_1 (MaxPooling1 (None, 4, 32)             0         \n",
            "_________________________________________________________________\n",
            "lstm_1 (LSTM)                (None, 4, 30)             7560      \n",
            "_________________________________________________________________\n",
            "dropout (Dropout)            (None, 4, 30)             0         \n",
            "_________________________________________________________________\n",
            "lstm_2 (LSTM)                (None, 20)                4080      \n",
            "_________________________________________________________________\n",
            "dropout_1 (Dropout)          (None, 20)                0         \n",
            "_________________________________________________________________\n",
            "dense_1 (Dense)              (None, 24)                504       \n",
            "=================================================================\n",
            "Total params: 16,528\n",
            "Trainable params: 16,528\n",
            "Non-trainable params: 0\n",
            "_________________________________________________________________\n",
            "Epoch 1/500\n",
            "3362/3362 [==============================] - 20s 6ms/step - loss: 6111.0156 - mae: 56.2878 - val_loss: 3359.7854 - val_mae: 40.6690\n",
            "Epoch 2/500\n",
            "3362/3362 [==============================] - 20s 6ms/step - loss: 4932.9355 - mae: 50.4923 - val_loss: 3016.7615 - val_mae: 39.2359\n",
            "Epoch 3/500\n",
            "3362/3362 [==============================] - 23s 7ms/step - loss: 5037.9751 - mae: 50.9934 - val_loss: 3266.4265 - val_mae: 41.6220\n",
            "Epoch 4/500\n",
            "3362/3362 [==============================] - 24s 7ms/step - loss: 5623.3931 - mae: 53.5573 - val_loss: 3483.1099 - val_mae: 42.5354\n",
            "Epoch 5/500\n",
            "3362/3362 [==============================] - 22s 6ms/step - loss: 5081.3198 - mae: 51.4449 - val_loss: 3450.2417 - val_mae: 41.6709\n",
            "Epoch 6/500\n",
            "3362/3362 [==============================] - 22s 7ms/step - loss: 4998.0288 - mae: 50.8406 - val_loss: 3303.9065 - val_mae: 41.2547\n",
            "Epoch 7/500\n",
            "3362/3362 [==============================] - 21s 6ms/step - loss: 4790.8306 - mae: 50.1540 - val_loss: 3366.7151 - val_mae: 40.8178\n",
            "Epoch 8/500\n",
            "3362/3362 [==============================] - 23s 7ms/step - loss: 5100.4854 - mae: 51.1611 - val_loss: 3312.6907 - val_mae: 42.4114\n",
            "Epoch 9/500\n",
            "3362/3362 [==============================] - 22s 6ms/step - loss: 4652.3403 - mae: 49.1034 - val_loss: 2924.2195 - val_mae: 39.2230\n",
            "Epoch 10/500\n",
            "3362/3362 [==============================] - 24s 7ms/step - loss: 4488.1509 - mae: 48.0769 - val_loss: 3059.6106 - val_mae: 40.1367\n",
            "Epoch 11/500\n",
            "3362/3362 [==============================] - 21s 6ms/step - loss: 4387.7231 - mae: 47.3981 - val_loss: 3372.9102 - val_mae: 40.4366\n",
            "Epoch 12/500\n",
            "3362/3362 [==============================] - 20s 6ms/step - loss: 4659.9590 - mae: 49.3361 - val_loss: 2977.7935 - val_mae: 38.6278\n",
            "Epoch 13/500\n",
            "3362/3362 [==============================] - 21s 6ms/step - loss: 4599.3735 - mae: 48.4521 - val_loss: 3002.4675 - val_mae: 39.5811\n",
            "Epoch 14/500\n",
            "3362/3362 [==============================] - 21s 6ms/step - loss: 5012.8271 - mae: 50.5659 - val_loss: 3216.8660 - val_mae: 40.5392\n",
            "Epoch 15/500\n",
            "3362/3362 [==============================] - 21s 6ms/step - loss: 4567.4590 - mae: 48.4484 - val_loss: 2857.4163 - val_mae: 38.1719\n",
            "Epoch 16/500\n",
            "3362/3362 [==============================] - 21s 6ms/step - loss: 4487.0205 - mae: 47.5807 - val_loss: 2990.9954 - val_mae: 39.7189\n",
            "Epoch 17/500\n",
            "3362/3362 [==============================] - 24s 7ms/step - loss: 4251.0088 - mae: 46.9130 - val_loss: 2909.0635 - val_mae: 37.9790\n",
            "Epoch 18/500\n",
            "3362/3362 [==============================] - 25s 7ms/step - loss: 4217.6968 - mae: 46.3198 - val_loss: 2815.5896 - val_mae: 38.4544\n",
            "Epoch 19/500\n",
            "3362/3362 [==============================] - 23s 7ms/step - loss: 4055.8276 - mae: 45.4842 - val_loss: 2707.7808 - val_mae: 37.3222\n",
            "Epoch 20/500\n",
            "3362/3362 [==============================] - 26s 8ms/step - loss: 4043.8257 - mae: 44.9405 - val_loss: 3188.5408 - val_mae: 38.7688\n",
            "Epoch 21/500\n",
            "3362/3362 [==============================] - 22s 7ms/step - loss: 4009.2441 - mae: 44.8439 - val_loss: 2558.1179 - val_mae: 36.1387\n",
            "Epoch 22/500\n",
            "3362/3362 [==============================] - 23s 7ms/step - loss: 3874.0386 - mae: 43.9999 - val_loss: 2526.6689 - val_mae: 35.9256\n",
            "Epoch 23/500\n",
            "3362/3362 [==============================] - 21s 6ms/step - loss: 3870.7971 - mae: 43.9118 - val_loss: 2971.6157 - val_mae: 38.0999\n",
            "Epoch 24/500\n",
            "3362/3362 [==============================] - 27s 8ms/step - loss: 3852.1812 - mae: 43.6931 - val_loss: 2714.4060 - val_mae: 36.2937\n",
            "Epoch 25/500\n",
            "3362/3362 [==============================] - 23s 7ms/step - loss: 4076.1379 - mae: 45.1277 - val_loss: 2637.2175 - val_mae: 35.8187\n",
            "Epoch 26/500\n",
            "3362/3362 [==============================] - 25s 7ms/step - loss: 4390.3774 - mae: 47.0390 - val_loss: 3009.3618 - val_mae: 39.0381\n",
            "Epoch 27/500\n",
            "3362/3362 [==============================] - 21s 6ms/step - loss: 4332.2520 - mae: 46.7891 - val_loss: 2781.9373 - val_mae: 37.6282\n",
            "Epoch 28/500\n",
            "3362/3362 [==============================] - 24s 7ms/step - loss: 4528.4766 - mae: 47.7748 - val_loss: 3282.9619 - val_mae: 40.1268\n",
            "Epoch 29/500\n",
            "3362/3362 [==============================] - 21s 6ms/step - loss: 4732.5635 - mae: 48.7923 - val_loss: 3504.7795 - val_mae: 41.9085\n",
            "Epoch 30/500\n",
            "3362/3362 [==============================] - 21s 6ms/step - loss: 4630.9365 - mae: 47.9345 - val_loss: 3339.5710 - val_mae: 39.8783\n",
            "Epoch 31/500\n",
            "3362/3362 [==============================] - 25s 7ms/step - loss: 4266.3716 - mae: 46.1411 - val_loss: 3058.0181 - val_mae: 38.2124\n",
            "Epoch 32/500\n",
            "3362/3362 [==============================] - ETA: 0s - loss: 4205.3730 - mae: 45.9903Restoring model weights from the end of the best epoch.\n",
            "3362/3362 [==============================] - 24s 7ms/step - loss: 4205.3730 - mae: 45.9903 - val_loss: 2638.9512 - val_mae: 35.9656\n",
            "Epoch 00032: early stopping\n"
          ],
          "name": "stdout"
        }
      ]
    },
    {
      "cell_type": "code",
      "metadata": {
        "colab": {
          "base_uri": "https://localhost:8080/",
          "height": 342
        },
        "id": "a_kelea3Le7A",
        "outputId": "5811151c-6623-4bd3-c533-c626c7285689"
      },
      "source": [
        "# 1st hour prediction\n",
        "pred_2 = model_2.predict(X_test)\n",
        "\n",
        "print(\"MAE:\", metrics.mean_absolute_error(y_test[:,0],pred_2[:,0]))\n",
        "print(\"MSE:\",metrics.mean_squared_error(y_test[:,0],pred_2[:,0]))\n",
        "\n",
        "plt.scatter(y_test[:,0], pred_2[:,0])\n",
        "plt.plot(pred_2[:,0], pred_2[:,0], color='red')\n",
        "plt.suptitle('Test Results')\n",
        "plt.xlabel('Actual')\n",
        "plt.ylabel('Predicted')\n",
        "plt.show()\n"
      ],
      "execution_count": null,
      "outputs": [
        {
          "output_type": "stream",
          "text": [
            "MAE: 46.36986345845859\n",
            "MSE: 4851.1997319445045\n"
          ],
          "name": "stdout"
        },
        {
          "output_type": "display_data",
          "data": {
            "image/png": "[encoded data removed]",
            "text/plain": [
              "<Figure size 432x288 with 1 Axes>"
            ]
          },
          "metadata": {
            "tags": [],
            "needs_background": "light"
          }
        }
      ]
    },
    {
      "cell_type": "code",
      "metadata": {
        "colab": {
          "base_uri": "https://localhost:8080/",
          "height": 342
        },
        "id": "7bqPKyrALcja",
        "outputId": "9c4926a8-cc5e-4bdf-bcde-cabf868bc0b3"
      },
      "source": [
        "# 2nd hour prediction\n",
        "print(\"MAE:\", metrics.mean_absolute_error(y_test[:,11],pred_2[:,11]))\n",
        "print(\"MSE:\",metrics.mean_squared_error(y_test[:,11],pred_2[:,11]))\n",
        "\n",
        "plt.scatter(y_test[:,11], pred_2[:,11])\n",
        "plt.plot(pred_2[:,11], pred_2[:,11], color='red')\n",
        "plt.suptitle('Test Results')\n",
        "plt.xlabel('Actual')\n",
        "plt.ylabel('Predicted')\n",
        "plt.show()"
      ],
      "execution_count": null,
      "outputs": [
        {
          "output_type": "stream",
          "text": [
            "MAE: 45.98926050604445\n",
            "MSE: 4865.286141252174\n"
          ],
          "name": "stdout"
        },
        {
          "output_type": "display_data",
          "data": {
            "image/png": "[encoded data removed]",
            "text/plain": [
              "<Figure size 432x288 with 1 Axes>"
            ]
          },
          "metadata": {
            "tags": [],
            "needs_background": "light"
          }
        }
      ]
    },
    {
      "cell_type": "code",
      "metadata": {
        "colab": {
          "base_uri": "https://localhost:8080/",
          "height": 342
        },
        "id": "SJeLrHZ2LZW4",
        "outputId": "4d9f0bcc-e7ed-48eb-fd18-7854447a6448"
      },
      "source": [
        "# 24th hour prediction\n",
        "print(\"MAE:\", metrics.mean_absolute_error(y_test[:,23],pred_2[:,23]))\n",
        "print(\"MSE:\",metrics.mean_squared_error(y_test[:,23],pred_2[:,23]))\n",
        "\n",
        "plt.scatter(y_test[:,23], pred_2[:,23])\n",
        "plt.plot(pred_2[:,23], pred_2[:,23], color='red')\n",
        "plt.suptitle('Test Results')\n",
        "plt.xlabel('Actual')\n",
        "plt.ylabel('Predicted')\n",
        "plt.show()"
      ],
      "execution_count": null,
      "outputs": [
        {
          "output_type": "stream",
          "text": [
            "MAE: 55.20312743187632\n",
            "MSE: 6544.777650711758\n"
          ],
          "name": "stdout"
        },
        {
          "output_type": "display_data",
          "data": {
            "image/png": "[encoded data removed]",
            "text/plain": [
              "<Figure size 432x288 with 1 Axes>"
            ]
          },
          "metadata": {
            "tags": [],
            "needs_background": "light"
          }
        }
      ]
    },
    {
      "cell_type": "code",
      "metadata": {
        "id": "hVnm-t-9qe0b",
        "colab": {
          "base_uri": "https://localhost:8080/",
          "height": 616
        },
        "outputId": "c577bd58-0377-428b-803a-4a7c3fc6355e"
      },
      "source": [
        "# calculate MSE for the baseline model\n",
        "from sklearn.metrics import mean_absolute_error\n",
        "print('MAE: ', mean_absolute_error(y_test, pred_2))\n",
        "\n",
        "actual = y_test # the actual\n",
        "plt.scatter(x=actual, y=pred_2)\n",
        "x = np.linspace(0,25) # 45 degree line from 0 to 25 (axes are the same)\n",
        "plt.plot(y, y, color='red')\n",
        "plt.suptitle('Test Results')\n",
        "plt.xlabel('Actual')\n",
        "plt.ylabel('Predicted')\n",
        "plt.show()\n",
        "\n",
        "\n",
        "# show timeseries plot on the train and validation data\n",
        "plt.plot(np.arange(X_test.shape[0]), y_test, color='blue') # actual data\n",
        "plt.plot(np.arange(X_test.shape[0]), pred_2, color='red') # predicted data\n",
        "plt.suptitle('Test Results')\n",
        "plt.xlabel('Time')\n",
        "plt.ylabel('PM2.5')\n",
        "plt.show()"
      ],
      "execution_count": null,
      "outputs": [
        {
          "output_type": "stream",
          "text": [
            "MAE:  45.4089411162152\n"
          ],
          "name": "stdout"
        },
        {
          "output_type": "display_data",
          "data": {
            "image/png": "[encoded data removed]",
            "text/plain": [
              "<Figure size 432x288 with 1 Axes>"
            ]
          },
          "metadata": {
            "tags": [],
            "needs_background": "light"
          }
        },
        {
          "output_type": "display_data",
          "data": {
            "image/png": "[encoded data removed]",
            "text/plain": [
              "<Figure size 432x288 with 1 Axes>"
            ]
          },
          "metadata": {
            "tags": [],
            "needs_background": "light"
          }
        }
      ]
    },
    {
      "cell_type": "markdown",
      "metadata": {
        "id": "N51CMOSaoZM9"
      },
      "source": [
        "## Model 3"
      ]
    },
    {
      "cell_type": "code",
      "metadata": {
        "colab": {
          "base_uri": "https://localhost:8080/"
        },
        "id": "2454BHTFn1lF",
        "outputId": "35efae69-6007-457d-d9e8-6fdab45547f5"
      },
      "source": [
        "# define shape\n",
        "n_steps = X.shape[1]\n",
        "n_features = X.shape[2]\n",
        "n_outputs = y.shape[1]\n",
        "\n",
        "print(n_steps, n_features, n_outputs)\n",
        "\n",
        "# define model\n",
        "model_3 = Sequential()\n",
        "model_3.add(Conv1D(filters=20, kernel_size=3, input_shape=(n_steps,n_features))) \n",
        "model_3.add(MaxPooling1D())\n",
        "model_3.add(Bidirectional(LSTM(10, activation='relu',return_sequences=True)))\n",
        "#model.add(LSTM(10, activation='relu',recurrent_dropout=0.3, return_sequences=True))\n",
        "model_3.add(GRU(10, activation='relu'))\n",
        "model_3.add(Dense(n_outputs))\n",
        "model_3.compile(optimizer='adam', loss='mse',metrics=['mae'])\n",
        "model_3.summary()\n",
        "\n",
        "\n",
        "# early stopping callback\n",
        "# This callback will stop the training when there is no improvement in  \n",
        "# the validation loss for 10 consecutive epochs.  \n",
        "es = keras.callbacks.EarlyStopping(monitor='val_loss', \n",
        "                                   mode='min',\n",
        "                                   patience=10, # you can play with this!\n",
        "                                   restore_best_weights=True) # important - otherwise you just return the last weigths...\n",
        "\n",
        "# fit model (uses early stopping)\n",
        "history_3 = model_3.fit(X_train, y_train, \n",
        "          epochs=500, \n",
        "          batch_size=5, \n",
        "          validation_split=0.2, # val is a random 20% of the data since we set shuffle = True\n",
        "          verbose=1,\n",
        "          callbacks=[es],\n",
        "          shuffle=True)"
      ],
      "execution_count": null,
      "outputs": [
        {
          "output_type": "stream",
          "text": [
            "24 13 24\n",
            "Model: \"sequential_4\"\n",
            "_________________________________________________________________\n",
            "Layer (type)                 Output Shape              Param #   \n",
            "=================================================================\n",
            "conv1d_4 (Conv1D)            (None, 22, 20)            800       \n",
            "_________________________________________________________________\n",
            "max_pooling1d_4 (MaxPooling1 (None, 11, 20)            0         \n",
            "_________________________________________________________________\n",
            "bidirectional_2 (Bidirection (None, 11, 20)            2480      \n",
            "_________________________________________________________________\n",
            "gru_2 (GRU)                  (None, 10)                960       \n",
            "_________________________________________________________________\n",
            "dense_4 (Dense)              (None, 24)                264       \n",
            "=================================================================\n",
            "Total params: 4,504\n",
            "Trainable params: 4,504\n",
            "Non-trainable params: 0\n",
            "_________________________________________________________________\n",
            "Epoch 1/500\n",
            "3362/3362 [==============================] - 56s 17ms/step - loss: 5323.0073 - mae: 52.7357 - val_loss: 3215.6130 - val_mae: 42.3189\n",
            "Epoch 2/500\n",
            "3362/3362 [==============================] - 52s 15ms/step - loss: 4120.5039 - mae: 45.9356 - val_loss: 2793.0540 - val_mae: 38.3820\n",
            "Epoch 3/500\n",
            "3362/3362 [==============================] - 53s 16ms/step - loss: 3879.5537 - mae: 44.4259 - val_loss: 2846.3193 - val_mae: 37.7804\n",
            "Epoch 4/500\n",
            "3362/3362 [==============================] - 53s 16ms/step - loss: 3746.9541 - mae: 43.4553 - val_loss: 2613.0813 - val_mae: 35.8352\n",
            "Epoch 5/500\n",
            "3362/3362 [==============================] - 54s 16ms/step - loss: 3692.7317 - mae: 43.1218 - val_loss: 2571.4158 - val_mae: 36.0751\n",
            "Epoch 6/500\n",
            "3362/3362 [==============================] - 61s 18ms/step - loss: 3480.9583 - mae: 41.7315 - val_loss: 2464.3132 - val_mae: 35.1319\n",
            "Epoch 7/500\n",
            "3362/3362 [==============================] - 53s 16ms/step - loss: 3410.8052 - mae: 41.3065 - val_loss: 2493.3857 - val_mae: 35.7154\n",
            "Epoch 8/500\n",
            "3362/3362 [==============================] - 53s 16ms/step - loss: 3555.9717 - mae: 42.0914 - val_loss: 2408.5725 - val_mae: 35.4198\n",
            "Epoch 9/500\n",
            "3362/3362 [==============================] - 53s 16ms/step - loss: 3408.0942 - mae: 41.3092 - val_loss: 2400.9387 - val_mae: 35.2853\n",
            "Epoch 10/500\n",
            "3362/3362 [==============================] - 56s 17ms/step - loss: 3319.3923 - mae: 40.7916 - val_loss: 2420.1184 - val_mae: 35.3192\n",
            "Epoch 11/500\n",
            "3362/3362 [==============================] - 59s 17ms/step - loss: 4188.9751 - mae: 46.9805 - val_loss: 3032.5054 - val_mae: 40.1155\n",
            "Epoch 12/500\n",
            "3362/3362 [==============================] - 56s 17ms/step - loss: 3228.8843 - mae: 40.2888 - val_loss: 2426.9180 - val_mae: 34.9703\n",
            "Epoch 13/500\n",
            "3362/3362 [==============================] - 57s 17ms/step - loss: 3217.1777 - mae: 40.0655 - val_loss: 2569.5391 - val_mae: 35.7886\n",
            "Epoch 14/500\n",
            "3362/3362 [==============================] - 56s 17ms/step - loss: 3233.4060 - mae: 40.2694 - val_loss: 2400.3081 - val_mae: 34.6933\n",
            "Epoch 15/500\n",
            "3362/3362 [==============================] - 56s 17ms/step - loss: 3200.1953 - mae: 39.8371 - val_loss: 2507.9294 - val_mae: 35.2159\n",
            "Epoch 16/500\n",
            "3362/3362 [==============================] - 58s 17ms/step - loss: 3177.0315 - mae: 39.6507 - val_loss: 2357.2920 - val_mae: 34.0338\n",
            "Epoch 17/500\n",
            "3362/3362 [==============================] - 60s 18ms/step - loss: 3204.1079 - mae: 39.9305 - val_loss: 3126.8335 - val_mae: 42.4526\n",
            "Epoch 18/500\n",
            "3362/3362 [==============================] - 59s 17ms/step - loss: 5626.9761 - mae: 55.0397 - val_loss: 3644.9373 - val_mae: 44.7096\n",
            "Epoch 19/500\n",
            "3362/3362 [==============================] - 57s 17ms/step - loss: 3897.4109 - mae: 45.1005 - val_loss: 2800.7024 - val_mae: 37.5599\n",
            "Epoch 20/500\n",
            "3362/3362 [==============================] - 55s 16ms/step - loss: 3339.6001 - mae: 41.2845 - val_loss: 2518.3662 - val_mae: 36.0811\n",
            "Epoch 21/500\n",
            "3362/3362 [==============================] - 60s 18ms/step - loss: 3424.3833 - mae: 41.4983 - val_loss: 2373.9985 - val_mae: 34.3787\n",
            "Epoch 22/500\n",
            "3362/3362 [==============================] - 59s 17ms/step - loss: 3248.0452 - mae: 40.4579 - val_loss: 2545.2009 - val_mae: 35.3031\n",
            "Epoch 23/500\n",
            "3362/3362 [==============================] - 55s 16ms/step - loss: 3211.7322 - mae: 40.2627 - val_loss: 2481.0149 - val_mae: 34.8514\n",
            "Epoch 24/500\n",
            "3362/3362 [==============================] - 54s 16ms/step - loss: 3174.4915 - mae: 39.9133 - val_loss: 2421.5081 - val_mae: 35.3917\n",
            "Epoch 25/500\n",
            "3362/3362 [==============================] - 51s 15ms/step - loss: 3380.9626 - mae: 41.0967 - val_loss: 2677.9219 - val_mae: 37.4774\n",
            "Epoch 26/500\n",
            "3362/3362 [==============================] - 55s 16ms/step - loss: 3241.1018 - mae: 40.2992 - val_loss: 2380.7136 - val_mae: 35.7491\n"
          ],
          "name": "stdout"
        }
      ]
    },
    {
      "cell_type": "code",
      "metadata": {
        "colab": {
          "base_uri": "https://localhost:8080/",
          "height": 342
        },
        "id": "EGM58HvTqyxY",
        "outputId": "fa686ae1-68bb-4d33-812d-cb5d6ebae0b6"
      },
      "source": [
        "# 1st hour prediction\n",
        "pred_3 = model_3.predict(X_test)\n",
        "\n",
        "print(\"MAE:\", metrics.mean_absolute_error(y_test[:,0],pred_2[:,0]))\n",
        "print(\"MSE:\",metrics.mean_squared_error(y_test[:,0],pred_2[:,0]))\n",
        "\n",
        "plt.scatter(y_test[:,0], pred_3[:,0])\n",
        "plt.plot(pred_3[:,0], pred_3[:,0], color='red')\n",
        "plt.suptitle('Test Results')\n",
        "plt.xlabel('Actual')\n",
        "plt.ylabel('Predicted')\n",
        "plt.show()"
      ],
      "execution_count": null,
      "outputs": [
        {
          "output_type": "stream",
          "text": [
            "MAE: 34.727504444762275\n",
            "MSE: 2688.6554332181604\n"
          ],
          "name": "stdout"
        },
        {
          "output_type": "display_data",
          "data": {
            "image/png": "[encoded data removed]",
            "text/plain": [
              "<Figure size 432x288 with 1 Axes>"
            ]
          },
          "metadata": {
            "tags": [],
            "needs_background": "light"
          }
        }
      ]
    },
    {
      "cell_type": "code",
      "metadata": {
        "colab": {
          "base_uri": "https://localhost:8080/",
          "height": 342
        },
        "id": "29ojSA4Eq6hQ",
        "outputId": "c2a858e9-1dde-4c8d-84c4-93ab54ddf142"
      },
      "source": [
        "# 12nd hour prediction\n",
        "print(\"MAE:\", metrics.mean_absolute_error(y_test[:,11],pred_3[:,11]))\n",
        "print(\"MSE:\",metrics.mean_squared_error(y_test[:,11],pred_3[:,11]))\n",
        "\n",
        "plt.scatter(y_test[:,11], pred_3[:,11])\n",
        "plt.plot(pred_3[:,11], pred_3[:,11], color='red')\n",
        "plt.suptitle('Test Results')\n",
        "plt.xlabel('Actual')\n",
        "plt.ylabel('Predicted')\n",
        "plt.show()"
      ],
      "execution_count": null,
      "outputs": [
        {
          "output_type": "stream",
          "text": [
            "MAE: 41.61629769213706\n",
            "MSE: 4286.719478358513\n"
          ],
          "name": "stdout"
        },
        {
          "output_type": "display_data",
          "data": {
            "image/png": "[encoded data removed]",
            "text/plain": [
              "<Figure size 432x288 with 1 Axes>"
            ]
          },
          "metadata": {
            "tags": [],
            "needs_background": "light"
          }
        }
      ]
    },
    {
      "cell_type": "code",
      "metadata": {
        "colab": {
          "base_uri": "https://localhost:8080/",
          "height": 342
        },
        "id": "LJgqHvURrEIs",
        "outputId": "03186241-2235-4bdd-9141-e2ade318708c"
      },
      "source": [
        "# 24th hour prediction\n",
        "print(\"MAE:\", metrics.mean_absolute_error(y_test[:,23],pred_3[:,23]))\n",
        "print(\"MSE:\",metrics.mean_squared_error(y_test[:,23],pred_3[:,23]))\n",
        "\n",
        "plt.scatter(y_test[:,23], pred_3[:,23])\n",
        "plt.plot(pred_3[:,23], pred_3[:,23], color='red')\n",
        "plt.suptitle('Test Results')\n",
        "plt.xlabel('Actual')\n",
        "plt.ylabel('Predicted')\n",
        "plt.show()"
      ],
      "execution_count": null,
      "outputs": [
        {
          "output_type": "stream",
          "text": [
            "MAE: 54.679624776306454\n",
            "MSE: 6441.090484663598\n"
          ],
          "name": "stdout"
        },
        {
          "output_type": "display_data",
          "data": {
            "image/png": "[encoded data removed]",
            "text/plain": [
              "<Figure size 432x288 with 1 Axes>"
            ]
          },
          "metadata": {
            "tags": [],
            "needs_background": "light"
          }
        }
      ]
    },
    {
      "cell_type": "code",
      "metadata": {
        "colab": {
          "base_uri": "https://localhost:8080/",
          "height": 616
        },
        "id": "sxrLT7_Y1thN",
        "outputId": "f96029ed-d9fc-4abd-98ba-3efcff97058e"
      },
      "source": [
        "# calculate MSE for the baseline model\n",
        "from sklearn.metrics import mean_absolute_error\n",
        "print('MAE: ', mean_absolute_error(y_test, pred_3))\n",
        "\n",
        "actual = y_test # the actual\n",
        "plt.scatter(x=actual, y=pred_3)\n",
        "x = np.linspace(0,25) # 45 degree line from 0 to 25 (axes are the same)\n",
        "plt.plot(y, y, color='red')\n",
        "plt.suptitle('Test Results')\n",
        "plt.xlabel('Actual')\n",
        "plt.ylabel('Predicted')\n",
        "plt.show()\n",
        "\n",
        "\n",
        "# show timeseries plot on the train and validation data\n",
        "plt.plot(np.arange(X_test.shape[0]), y_test, color='blue') # actual data\n",
        "plt.plot(np.arange(X_test.shape[0]), pred_3, color='red') # predicted data\n",
        "plt.suptitle('Test Results')\n",
        "plt.xlabel('Time')\n",
        "plt.ylabel('PM2.5')\n",
        "plt.show()"
      ],
      "execution_count": null,
      "outputs": [
        {
          "output_type": "stream",
          "text": [
            "MAE:  41.94849082980595\n"
          ],
          "name": "stdout"
        },
        {
          "output_type": "display_data",
          "data": {
            "image/png": "[encoded data removed]",
            "text/plain": [
              "<Figure size 432x288 with 1 Axes>"
            ]
          },
          "metadata": {
            "tags": [],
            "needs_background": "light"
          }
        },
        {
          "output_type": "display_data",
          "data": {
            "image/png": "[encoded data removed]",
            "text/plain": [
              "<Figure size 432x288 with 1 Axes>"
            ]
          },
          "metadata": {
            "tags": [],
            "needs_background": "light"
          }
        }
      ]
    },
    {
      "cell_type": "markdown",
      "metadata": {
        "id": "aEs_P-IGlq0w"
      },
      "source": [
        "# Results and Discussion"
      ]
    },
    {
      "cell_type": "markdown",
      "metadata": {
        "id": "ze7InJM8qAKJ"
      },
      "source": [
        "## Learning curves"
      ]
    },
    {
      "cell_type": "code",
      "metadata": {
        "colab": {
          "base_uri": "https://localhost:8080/",
          "height": 545
        },
        "id": "Eqdz3ox5qJqk",
        "outputId": "a0b69c87-7400-4423-895f-a3acf462461c"
      },
      "source": [
        "#plot the learning curve for model1 \n",
        "#compare accuracy and loss of train and validation data.\n",
        "mae = history.history['mae']\n",
        "val_mae = history.history['val_mae']\n",
        "loss = history.history['loss']\n",
        "val_loss = history.history['val_loss']\n",
        "\n",
        "epochs = range(len(mae))\n",
        "\n",
        "plt.plot(epochs, mae, 'bo', label='Training mae')\n",
        "plt.plot(epochs, val_mae, 'b', label='Validation mae')\n",
        "plt.title('Training and validation mae')\n",
        "plt.legend()\n",
        "\n",
        "plt.figure()\n",
        "\n",
        "plt.plot(epochs, loss, 'bo', label='Training loss')\n",
        "plt.plot(epochs, val_loss, 'b', label='Validation loss')\n",
        "plt.title('Training and validation loss')\n",
        "plt.legend()\n",
        "\n",
        "plt.show()"
      ],
      "execution_count": null,
      "outputs": [
        {
          "output_type": "display_data",
          "data": {
            "image/png": "[encoded data removed]",
            "text/plain": [
              "<Figure size 432x288 with 1 Axes>"
            ]
          },
          "metadata": {
            "tags": [],
            "needs_background": "light"
          }
        },
        {
          "output_type": "display_data",
          "data": {
            "image/png": "[encoded data removed]",
            "text/plain": [
              "<Figure size 432x288 with 1 Axes>"
            ]
          },
          "metadata": {
            "tags": [],
            "needs_background": "light"
          }
        }
      ]
    },
    {
      "cell_type": "code",
      "metadata": {
        "colab": {
          "base_uri": "https://localhost:8080/",
          "height": 545
        },
        "id": "JZ6-KlpXqPHI",
        "outputId": "55c0fea6-d0b7-4436-94f6-256cc652274e"
      },
      "source": [
        "#plot the learning curve for model2 \n",
        "#compare accuracy and loss of train and validation data.\n",
        "mae = history_2.history['mae']\n",
        "val_mae = history_2.history['val_mae']\n",
        "loss = history_2.history['loss']\n",
        "val_loss = history_2.history['val_loss']\n",
        "\n",
        "epochs = range(len(mae))\n",
        "\n",
        "plt.plot(epochs, mae, 'bo', label='Training mae')\n",
        "plt.plot(epochs, val_mae, 'b', label='Validation mae')\n",
        "plt.title('Training and validation mae')\n",
        "plt.legend()\n",
        "\n",
        "plt.figure()\n",
        "\n",
        "plt.plot(epochs, loss, 'bo', label='Training loss')\n",
        "plt.plot(epochs, val_loss, 'b', label='Validation loss')\n",
        "plt.title('Training and validation loss')\n",
        "plt.legend()\n",
        "\n",
        "plt.show()"
      ],
      "execution_count": null,
      "outputs": [
        {
          "output_type": "display_data",
          "data": {
            "image/png": "[encoded data removed]",
            "text/plain": [
              "<Figure size 432x288 with 1 Axes>"
            ]
          },
          "metadata": {
            "tags": [],
            "needs_background": "light"
          }
        },
        {
          "output_type": "display_data",
          "data": {
            "image/png": "[encoded data removed]",
            "text/plain": [
              "<Figure size 432x288 with 1 Axes>"
            ]
          },
          "metadata": {
            "tags": [],
            "needs_background": "light"
          }
        }
      ]
    },
    {
      "cell_type": "code",
      "metadata": {
        "colab": {
          "base_uri": "https://localhost:8080/",
          "height": 545
        },
        "id": "Ka9-_2mZqRqM",
        "outputId": "c764563c-4bc2-4134-d081-5f71b938ed30"
      },
      "source": [
        "#plot the learning curve for model3 \n",
        "#compare accuracy and loss of train and validation data.\n",
        "mae = history_3.history['mae']\n",
        "val_mae = history_3.history['val_mae']\n",
        "loss = history_3.history['loss']\n",
        "val_loss = history_3.history['val_loss']\n",
        "\n",
        "epochs = range(len(mae))\n",
        "\n",
        "plt.plot(epochs, mae, 'bo', label='Training mae')\n",
        "plt.plot(epochs, val_mae, 'b', label='Validation mae')\n",
        "plt.title('Training and validation mae')\n",
        "plt.legend()\n",
        "\n",
        "plt.figure()\n",
        "\n",
        "plt.plot(epochs, loss, 'bo', label='Training loss')\n",
        "plt.plot(epochs, val_loss, 'b', label='Validation loss')\n",
        "plt.title('Training and validation loss')\n",
        "plt.legend()\n",
        "\n",
        "plt.show()"
      ],
      "execution_count": null,
      "outputs": [
        {
          "output_type": "display_data",
          "data": {
            "image/png": "[encoded data removed]",
            "text/plain": [
              "<Figure size 432x288 with 1 Axes>"
            ]
          },
          "metadata": {
            "tags": [],
            "needs_background": "light"
          }
        },
        {
          "output_type": "display_data",
          "data": {
            "image/png": "[encoded data removed]",
            "text/plain": [
              "<Figure size 432x288 with 1 Axes>"
            ]
          },
          "metadata": {
            "tags": [],
            "needs_background": "light"
          }
        }
      ]
    }
  ]
}